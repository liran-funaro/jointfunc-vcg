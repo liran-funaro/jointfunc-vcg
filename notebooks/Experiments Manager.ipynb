{
 "cells": [
  {
   "cell_type": "code",
   "execution_count": 1,
   "metadata": {
    "ExecuteTime": {
     "end_time": "2019-05-20T07:36:12.186611Z",
     "start_time": "2019-05-20T07:36:11.098898Z"
    }
   },
   "outputs": [],
   "source": [
    "%matplotlib inline\n",
    "from common import *"
   ]
  },
  {
   "cell_type": "markdown",
   "metadata": {},
   "source": [
    "# All Paper Experiments"
   ]
  },
  {
   "cell_type": "code",
   "execution_count": 2,
   "metadata": {
    "ExecuteTime": {
     "end_time": "2019-05-20T07:36:13.062601Z",
     "start_time": "2019-05-20T07:36:13.029460Z"
    }
   },
   "outputs": [],
   "source": [
    "tested_dims = 1, 2, 3, 4, 5, 6\n",
    "sim_kwargs = dict(datasets_interval=(0,10), max_workers=1, skip_existing=True)"
   ]
  },
  {
   "cell_type": "markdown",
   "metadata": {},
   "source": [
    "## Naive $O(n \\cdot N^2)$"
   ]
  },
  {
   "cell_type": "code",
   "execution_count": 3,
   "metadata": {
    "ExecuteTime": {
     "end_time": "2019-05-17T09:57:31.808919Z",
     "start_time": "2019-05-17T09:57:27.551415Z"
    }
   },
   "outputs": [],
   "source": [
    "naive_joint_val_sizes = np.linspace(2**10, 2**16, 10).astype(np.uint32)\n",
    "naive_compare_methods =  0,\n",
    "naive_sim_kwargs = dict(sim_kwargs, datasets_interval=(0,1))\n",
    "naive_join_flags = 'filter',\n",
    "naive_resource_dependencies = ('complementary', 'substitute')\n",
    "\n",
    "for ds_obj in data.all_datasets:\n",
    "    exp.batch.joint_val(ds_obj, exp_type='naive',\n",
    "                        sizes=naive_joint_val_sizes,\n",
    "                        join_methods=naive_compare_methods,\n",
    "                        join_flags=naive_join_flags,\n",
    "                        dims=tested_dims,\n",
    "                        resource_dependencies=naive_resource_dependencies,\n",
    "                        sim_kwargs=naive_sim_kwargs)"
   ]
  },
  {
   "cell_type": "markdown",
   "metadata": {
    "heading_collapsed": true
   },
   "source": [
    "## Validation: Maile and Tuffin"
   ]
  },
  {
   "cell_type": "code",
   "execution_count": 3,
   "metadata": {
    "ExecuteTime": {
     "end_time": "2018-10-14T01:00:59.136538Z",
     "start_time": "2018-10-14T01:00:59.023371Z"
    },
    "collapsed": true,
    "hidden": true
   },
   "outputs": [],
   "source": [
    "maille_tuffin_sizes = np.linspace(2**10, 2**16, 10).astype(np.uint32)\n",
    "exp.batch.maille_tuffin(data.concave, exp_type='maille-tuffin',\n",
    "                        sizes=maille_tuffin_sizes,\n",
    "                        dims=tested_dims,\n",
    "                        sim_kwargs=sim_kwargs)"
   ]
  },
  {
   "cell_type": "markdown",
   "metadata": {},
   "source": [
    "## Killer"
   ]
  },
  {
   "cell_type": "code",
   "execution_count": 4,
   "metadata": {
    "ExecuteTime": {
     "end_time": "2019-05-18T19:33:43.815619Z",
     "start_time": "2019-05-18T19:33:42.179136Z"
    }
   },
   "outputs": [],
   "source": [
    "joint_val_sizes = np.linspace(2**10, 2**16, 10).astype(np.uint32)\n",
    "compare_methods =  5,\n",
    "join_flags = 'filter_grad', 'filter',\n",
    "killer_resource_dependencies = 'sm', #'complementary', 'substitute'\n",
    "\n",
    "for ds_obj in data.all_datasets:\n",
    "    exp.batch.joint_val(ds_obj, exp_type='killer',\n",
    "                        sizes=joint_val_sizes,\n",
    "                        join_methods=compare_methods,\n",
    "                        join_flags=join_flags,\n",
    "                        dims=tested_dims,\n",
    "                        resource_dependencies=killer_resource_dependencies,\n",
    "                        sim_kwargs=sim_kwargs)"
   ]
  },
  {
   "cell_type": "markdown",
   "metadata": {},
   "source": [
    "## Count"
   ]
  },
  {
   "cell_type": "code",
   "execution_count": 3,
   "metadata": {
    "ExecuteTime": {
     "end_time": "2019-05-20T07:36:26.620506Z",
     "start_time": "2019-05-20T07:36:20.031532Z"
    }
   },
   "outputs": [],
   "source": [
    "count_joint_val_sizes = np.linspace(2**10, 2**16, 10).astype(np.uint32)\n",
    "count_compare_methods = 5,\n",
    "count_join_flags = 'filter_grad','filter', 'count'\n",
    "count_resource_dependencies = 'sm', #'complementary', 'substitute'\n",
    "\n",
    "for ds_obj in data.all_datasets:\n",
    "    exp.batch.joint_val(ds_obj, exp_type='ds-count-filter-grad',\n",
    "                        sizes=count_joint_val_sizes,\n",
    "                        join_methods=count_compare_methods,\n",
    "                        join_flags=count_join_flags,\n",
    "                        dims=tested_dims,\n",
    "                        resource_dependencies=count_resource_dependencies,\n",
    "                        sim_kwargs=sim_kwargs)"
   ]
  },
  {
   "cell_type": "markdown",
   "metadata": {
    "heading_collapsed": true
   },
   "source": [
    "## Analysis"
   ]
  },
  {
   "cell_type": "code",
   "execution_count": 7,
   "metadata": {
    "ExecuteTime": {
     "end_time": "2019-05-17T09:54:13.029976Z",
     "start_time": "2019-05-17T09:54:12.095820Z"
    },
    "hidden": true
   },
   "outputs": [],
   "source": [
    "analysis_joint_val_sizes = np.linspace(2**10, 2**16, 3).astype(np.uint32)\n",
    "analysis_compare_methods = 5, 9, 2\n",
    "analysis_join_flags = 'filter_grad','filter', 'count', 'buildtime', 'querytime'\n",
    "analysis_resource_dependencies = ('complementary', 'substitute')\n",
    "\n",
    "exp.batch.joint_val(data.increasing, exp_type='ds-analysis-filter-grad',\n",
    "                    sizes=analysis_joint_val_sizes,\n",
    "                    join_methods=analysis_compare_methods,\n",
    "                    join_flags=analysis_join_flags,\n",
    "                    dims=tested_dims,\n",
    "                    resource_dependencies=analysis_resource_dependencies,\n",
    "                    sim_kwargs=sim_kwargs)"
   ]
  },
  {
   "cell_type": "code",
   "execution_count": 5,
   "metadata": {
    "ExecuteTime": {
     "end_time": "2019-05-18T19:27:42.821104Z",
     "start_time": "2019-05-18T19:27:42.800632Z"
    },
    "hidden": true
   },
   "outputs": [
    {
     "data": {
      "text/plain": [
       "'a'"
      ]
     },
     "execution_count": 5,
     "metadata": {},
     "output_type": "execute_result"
    }
   ],
   "source": [
    "mm = {5: 'a'}\n",
    "mm[next(iter(mm))]"
   ]
  },
  {
   "cell_type": "markdown",
   "metadata": {
    "heading_collapsed": true
   },
   "source": [
    "## Count without filtering grad (DEPRECATED)"
   ]
  },
  {
   "cell_type": "code",
   "execution_count": null,
   "metadata": {
    "collapsed": true,
    "hidden": true
   },
   "outputs": [],
   "source": [
    "count_joint_val_sizes = np.linspace(2**10, 2**16, 10).astype(np.uint32)\n",
    "count_compare_methods = 5,\n",
    "count_join_flags = 'filter', 'count'\n",
    "\n",
    "# Count analysis\n",
    "for ds_obj in data.all_datasets:\n",
    "    exp.batch.joint_val(ds_obj, exp_type='ds-count-no-filter-grad',\n",
    "                        sizes=count_joint_val_sizes,\n",
    "                        join_methods=count_compare_methods,\n",
    "                        join_flags=count_join_flags,\n",
    "                        dims=tested_dims,\n",
    "                        sim_kwargs=sim_kwargs)"
   ]
  },
  {
   "cell_type": "markdown",
   "metadata": {
    "heading_collapsed": true
   },
   "source": [
    "## Compare Datasets without counters (DEPRECATED)"
   ]
  },
  {
   "cell_type": "code",
   "execution_count": null,
   "metadata": {
    "hidden": true
   },
   "outputs": [],
   "source": [
    "joint_val_sizes = np.linspace(2**10, 2**16, 10).astype(np.uint32)\n",
    "compare_join_flags = 'filter_grad', 'filter',\n",
    "compare_methods = 5, 9, 2\n",
    "\n",
    "# Data structures compare\n",
    "for ds_obj in data.all_datasets:\n",
    "    joint_val(ds_obj, exp_type='ds-compare',\n",
    "              join_methods=compare_methods, sizes=joint_val_sizes, dims=tested_dims,\n",
    "              join_flags=compare_join_flags,\n",
    "              sim_kwargs=sim_kwargs)"
   ]
  },
  {
   "cell_type": "markdown",
   "metadata": {
    "heading_collapsed": true
   },
   "source": [
    "## Test Build Time (DEPRECATED)"
   ]
  },
  {
   "cell_type": "code",
   "execution_count": 8,
   "metadata": {
    "ExecuteTime": {
     "end_time": "2018-09-17T16:13:21.553165Z",
     "start_time": "2018-09-17T16:13:20.575093Z"
    },
    "collapsed": true,
    "hidden": true
   },
   "outputs": [],
   "source": [
    "sim.start_control_thread(\"exp\", exp.batch.many_size_and_dim_ds_build_time, kwargs=dict(\n",
    "    ds_obj=ds_obj,\n",
    "    sizes=sizes,\n",
    "    dims=dims,\n",
    "    join_methods=(8,),\n",
    "    max_workers=1,\n",
    "    datasets_interval=(0,1),\n",
    "))"
   ]
  },
  {
   "cell_type": "markdown",
   "metadata": {},
   "source": [
    "# Status"
   ]
  },
  {
   "cell_type": "code",
   "execution_count": 6,
   "metadata": {
    "ExecuteTime": {
     "end_time": "2019-05-20T07:36:59.384847Z",
     "start_time": "2019-05-20T07:36:59.025036Z"
    },
    "scrolled": false
   },
   "outputs": [
    {
     "name": "stdout",
     "output_type": "stream",
     "text": [
      "Total ran jobs: 180\n",
      "╒════════════╤═════════╤═══════════╤═══════════════╤═══════════════╕\n",
      "│ Name       │ Alive   │ Started   │ Work Time     │ Event State   │\n",
      "╞════════════╪═════════╪═══════════╪═══════════════╪═══════════════╡\n",
      "│ batch-jobs │ True    │ 10:36:20  │ 38.93 seconds │ False         │\n",
      "╘════════════╧═════════╧═══════════╧═══════════════╧═══════════════╛\n"
     ]
    },
    {
     "data": {
      "text/html": [
       "<style  type=\"text/css\" >\n",
       "    #T_0d23c57c_7ad2_11e9_a88e_bf7dd87f5206row0_col2 {\n",
       "            : ;\n",
       "            background-color:  #72bf72;\n",
       "        }    #T_0d23c57c_7ad2_11e9_a88e_bf7dd87f5206row0_col3 {\n",
       "            : ;\n",
       "            background-color:  #72bf72;\n",
       "        }    #T_0d23c57c_7ad2_11e9_a88e_bf7dd87f5206row0_col4 {\n",
       "            : ;\n",
       "            background-color:  #e5ffe5;\n",
       "        }    #T_0d23c57c_7ad2_11e9_a88e_bf7dd87f5206row0_col5 {\n",
       "            : ;\n",
       "            background-color:  #e5ffe5;\n",
       "        }    #T_0d23c57c_7ad2_11e9_a88e_bf7dd87f5206row0_col6 {\n",
       "            : ;\n",
       "            background-color:  #e5ffe5;\n",
       "        }    #T_0d23c57c_7ad2_11e9_a88e_bf7dd87f5206row0_col7 {\n",
       "            : ;\n",
       "            background-color:  #e5ffe5;\n",
       "        }    #T_0d23c57c_7ad2_11e9_a88e_bf7dd87f5206row1_col2 {\n",
       "            : ;\n",
       "            background-color:  #72bf72;\n",
       "        }    #T_0d23c57c_7ad2_11e9_a88e_bf7dd87f5206row1_col3 {\n",
       "            : ;\n",
       "            background-color:  #72bf72;\n",
       "        }    #T_0d23c57c_7ad2_11e9_a88e_bf7dd87f5206row1_col4 {\n",
       "            : ;\n",
       "            background-color:  #e5ffe5;\n",
       "        }    #T_0d23c57c_7ad2_11e9_a88e_bf7dd87f5206row1_col5 {\n",
       "            : ;\n",
       "            background-color:  #e5ffe5;\n",
       "        }    #T_0d23c57c_7ad2_11e9_a88e_bf7dd87f5206row1_col6 {\n",
       "            : ;\n",
       "            background-color:  #e5ffe5;\n",
       "        }    #T_0d23c57c_7ad2_11e9_a88e_bf7dd87f5206row1_col7 {\n",
       "            : ;\n",
       "            background-color:  #e5ffe5;\n",
       "        }    #T_0d23c57c_7ad2_11e9_a88e_bf7dd87f5206row2_col2 {\n",
       "            : ;\n",
       "            background-color:  #72bf72;\n",
       "        }    #T_0d23c57c_7ad2_11e9_a88e_bf7dd87f5206row2_col3 {\n",
       "            : ;\n",
       "            background-color:  #72bf72;\n",
       "        }    #T_0d23c57c_7ad2_11e9_a88e_bf7dd87f5206row2_col4 {\n",
       "            : ;\n",
       "            background-color:  #e5ffe5;\n",
       "        }    #T_0d23c57c_7ad2_11e9_a88e_bf7dd87f5206row2_col5 {\n",
       "            : ;\n",
       "            background-color:  #e5ffe5;\n",
       "        }    #T_0d23c57c_7ad2_11e9_a88e_bf7dd87f5206row2_col6 {\n",
       "            : ;\n",
       "            background-color:  #e5ffe5;\n",
       "        }    #T_0d23c57c_7ad2_11e9_a88e_bf7dd87f5206row2_col7 {\n",
       "            : ;\n",
       "            background-color:  #e5ffe5;\n",
       "        }    #T_0d23c57c_7ad2_11e9_a88e_bf7dd87f5206row3_col2 {\n",
       "            : ;\n",
       "            background-color:  #72bf72;\n",
       "        }    #T_0d23c57c_7ad2_11e9_a88e_bf7dd87f5206row3_col3 {\n",
       "            : ;\n",
       "            background-color:  #72bf72;\n",
       "        }    #T_0d23c57c_7ad2_11e9_a88e_bf7dd87f5206row3_col4 {\n",
       "            : ;\n",
       "            background-color:  #e5ffe5;\n",
       "        }    #T_0d23c57c_7ad2_11e9_a88e_bf7dd87f5206row3_col5 {\n",
       "            : ;\n",
       "            background-color:  #e5ffe5;\n",
       "        }    #T_0d23c57c_7ad2_11e9_a88e_bf7dd87f5206row3_col6 {\n",
       "            : ;\n",
       "            background-color:  #e5ffe5;\n",
       "        }    #T_0d23c57c_7ad2_11e9_a88e_bf7dd87f5206row3_col7 {\n",
       "            : ;\n",
       "            background-color:  #e5ffe5;\n",
       "        }    #T_0d23c57c_7ad2_11e9_a88e_bf7dd87f5206row4_col2 {\n",
       "            : ;\n",
       "            background-color:  #72bf72;\n",
       "        }    #T_0d23c57c_7ad2_11e9_a88e_bf7dd87f5206row4_col3 {\n",
       "            : ;\n",
       "            background-color:  #72bf72;\n",
       "        }    #T_0d23c57c_7ad2_11e9_a88e_bf7dd87f5206row4_col4 {\n",
       "            : ;\n",
       "            background-color:  #e5ffe5;\n",
       "        }    #T_0d23c57c_7ad2_11e9_a88e_bf7dd87f5206row4_col5 {\n",
       "            : ;\n",
       "            background-color:  #e5ffe5;\n",
       "        }    #T_0d23c57c_7ad2_11e9_a88e_bf7dd87f5206row4_col6 {\n",
       "            : ;\n",
       "            background-color:  #e5ffe5;\n",
       "        }    #T_0d23c57c_7ad2_11e9_a88e_bf7dd87f5206row4_col7 {\n",
       "            : ;\n",
       "            background-color:  #e5ffe5;\n",
       "        }    #T_0d23c57c_7ad2_11e9_a88e_bf7dd87f5206row5_col2 {\n",
       "            : ;\n",
       "            background-color:  #72bf72;\n",
       "        }    #T_0d23c57c_7ad2_11e9_a88e_bf7dd87f5206row5_col3 {\n",
       "            : ;\n",
       "            background-color:  #72bf72;\n",
       "        }    #T_0d23c57c_7ad2_11e9_a88e_bf7dd87f5206row5_col4 {\n",
       "            : ;\n",
       "            background-color:  #e5ffe5;\n",
       "        }    #T_0d23c57c_7ad2_11e9_a88e_bf7dd87f5206row5_col5 {\n",
       "            : ;\n",
       "            background-color:  #e5ffe5;\n",
       "        }    #T_0d23c57c_7ad2_11e9_a88e_bf7dd87f5206row5_col6 {\n",
       "            : ;\n",
       "            background-color:  #e5ffe5;\n",
       "        }    #T_0d23c57c_7ad2_11e9_a88e_bf7dd87f5206row5_col7 {\n",
       "            : ;\n",
       "            background-color:  #e5ffe5;\n",
       "        }    #T_0d23c57c_7ad2_11e9_a88e_bf7dd87f5206row6_col2 {\n",
       "            : ;\n",
       "            background-color:  #72bf72;\n",
       "        }    #T_0d23c57c_7ad2_11e9_a88e_bf7dd87f5206row6_col3 {\n",
       "            : ;\n",
       "            background-color:  #72bf72;\n",
       "        }    #T_0d23c57c_7ad2_11e9_a88e_bf7dd87f5206row6_col4 {\n",
       "            : ;\n",
       "            background-color:  #e5ffe5;\n",
       "        }    #T_0d23c57c_7ad2_11e9_a88e_bf7dd87f5206row6_col5 {\n",
       "            : ;\n",
       "            background-color:  #e5ffe5;\n",
       "        }    #T_0d23c57c_7ad2_11e9_a88e_bf7dd87f5206row6_col6 {\n",
       "            : ;\n",
       "            background-color:  #e5ffe5;\n",
       "        }    #T_0d23c57c_7ad2_11e9_a88e_bf7dd87f5206row6_col7 {\n",
       "            : ;\n",
       "            background-color:  #e5ffe5;\n",
       "        }    #T_0d23c57c_7ad2_11e9_a88e_bf7dd87f5206row7_col2 {\n",
       "            : ;\n",
       "            background-color:  #72bf72;\n",
       "        }    #T_0d23c57c_7ad2_11e9_a88e_bf7dd87f5206row7_col3 {\n",
       "            : ;\n",
       "            background-color:  #72bf72;\n",
       "        }    #T_0d23c57c_7ad2_11e9_a88e_bf7dd87f5206row7_col4 {\n",
       "            : ;\n",
       "            background-color:  #e5ffe5;\n",
       "        }    #T_0d23c57c_7ad2_11e9_a88e_bf7dd87f5206row7_col5 {\n",
       "            : ;\n",
       "            background-color:  #e5ffe5;\n",
       "        }    #T_0d23c57c_7ad2_11e9_a88e_bf7dd87f5206row7_col6 {\n",
       "            : ;\n",
       "            background-color:  #e5ffe5;\n",
       "        }    #T_0d23c57c_7ad2_11e9_a88e_bf7dd87f5206row7_col7 {\n",
       "            : ;\n",
       "            background-color:  #e5ffe5;\n",
       "        }    #T_0d23c57c_7ad2_11e9_a88e_bf7dd87f5206row8_col2 {\n",
       "            : ;\n",
       "            background-color:  #72bf72;\n",
       "        }    #T_0d23c57c_7ad2_11e9_a88e_bf7dd87f5206row8_col3 {\n",
       "            : ;\n",
       "            background-color:  #72bf72;\n",
       "        }    #T_0d23c57c_7ad2_11e9_a88e_bf7dd87f5206row8_col4 {\n",
       "            : ;\n",
       "            background-color:  #e5ffe5;\n",
       "        }    #T_0d23c57c_7ad2_11e9_a88e_bf7dd87f5206row8_col5 {\n",
       "            : ;\n",
       "            background-color:  #e5ffe5;\n",
       "        }    #T_0d23c57c_7ad2_11e9_a88e_bf7dd87f5206row8_col6 {\n",
       "            : ;\n",
       "            background-color:  #e5ffe5;\n",
       "        }    #T_0d23c57c_7ad2_11e9_a88e_bf7dd87f5206row8_col7 {\n",
       "            : ;\n",
       "            background-color:  #e5ffe5;\n",
       "        }    #T_0d23c57c_7ad2_11e9_a88e_bf7dd87f5206row9_col2 {\n",
       "            : ;\n",
       "            background-color:  #72bf72;\n",
       "        }    #T_0d23c57c_7ad2_11e9_a88e_bf7dd87f5206row9_col3 {\n",
       "            : ;\n",
       "            background-color:  #72bf72;\n",
       "        }    #T_0d23c57c_7ad2_11e9_a88e_bf7dd87f5206row9_col4 {\n",
       "            : ;\n",
       "            background-color:  #e5ffe5;\n",
       "        }    #T_0d23c57c_7ad2_11e9_a88e_bf7dd87f5206row9_col5 {\n",
       "            : ;\n",
       "            background-color:  #e5ffe5;\n",
       "        }    #T_0d23c57c_7ad2_11e9_a88e_bf7dd87f5206row9_col6 {\n",
       "            : ;\n",
       "            background-color:  #e5ffe5;\n",
       "        }    #T_0d23c57c_7ad2_11e9_a88e_bf7dd87f5206row9_col7 {\n",
       "            : ;\n",
       "            background-color:  #e5ffe5;\n",
       "        }</style><table id=\"T_0d23c57c_7ad2_11e9_a88e_bf7dd87f5206\" ><thead>    <tr>        <th class=\"blank level0\" ></th>        <th class=\"col_heading level0 col0\" >Name</th>        <th class=\"col_heading level0 col1\" >Alive</th>        <th class=\"col_heading level0 col2\" >T</th>        <th class=\"col_heading level0 col3\" >D</th>        <th class=\"col_heading level0 col4\" >F</th>        <th class=\"col_heading level0 col5\" >R</th>        <th class=\"col_heading level0 col6\" >Q</th>        <th class=\"col_heading level0 col7\" >C</th>        <th class=\"col_heading level0 col8\" >Started</th>        <th class=\"col_heading level0 col9\" >Work Time</th>        <th class=\"col_heading level0 col10\" >Last Update</th>        <th class=\"col_heading level0 col11\" >Throughput</th>        <th class=\"col_heading level0 col12\" >ETA</th>    </tr></thead><tbody>\n",
       "                <tr>\n",
       "                        <th id=\"T_0d23c57c_7ad2_11e9_a88e_bf7dd87f5206level0_row0\" class=\"row_heading level0 row0\" >0</th>\n",
       "                        <td id=\"T_0d23c57c_7ad2_11e9_a88e_bf7dd87f5206row0_col0\" class=\"data row0 col0\" >ds-count-filter-grad:5-6-65536:sm[vcg-non-increasing-6d-256p]</td>\n",
       "                        <td id=\"T_0d23c57c_7ad2_11e9_a88e_bf7dd87f5206row0_col1\" class=\"data row0 col1\" >False</td>\n",
       "                        <td id=\"T_0d23c57c_7ad2_11e9_a88e_bf7dd87f5206row0_col2\" class=\"data row0 col2\" >10</td>\n",
       "                        <td id=\"T_0d23c57c_7ad2_11e9_a88e_bf7dd87f5206row0_col3\" class=\"data row0 col3\" >10</td>\n",
       "                        <td id=\"T_0d23c57c_7ad2_11e9_a88e_bf7dd87f5206row0_col4\" class=\"data row0 col4\" >0</td>\n",
       "                        <td id=\"T_0d23c57c_7ad2_11e9_a88e_bf7dd87f5206row0_col5\" class=\"data row0 col5\" >0</td>\n",
       "                        <td id=\"T_0d23c57c_7ad2_11e9_a88e_bf7dd87f5206row0_col6\" class=\"data row0 col6\" >0</td>\n",
       "                        <td id=\"T_0d23c57c_7ad2_11e9_a88e_bf7dd87f5206row0_col7\" class=\"data row0 col7\" >0</td>\n",
       "                        <td id=\"T_0d23c57c_7ad2_11e9_a88e_bf7dd87f5206row0_col8\" class=\"data row0 col8\" >10:36:46</td>\n",
       "                        <td id=\"T_0d23c57c_7ad2_11e9_a88e_bf7dd87f5206row0_col9\" class=\"data row0 col9\" >0.12 seconds</td>\n",
       "                        <td id=\"T_0d23c57c_7ad2_11e9_a88e_bf7dd87f5206row0_col10\" class=\"data row0 col10\" >10:36:46</td>\n",
       "                        <td id=\"T_0d23c57c_7ad2_11e9_a88e_bf7dd87f5206row0_col11\" class=\"data row0 col11\" >81.39 items/second</td>\n",
       "                        <td id=\"T_0d23c57c_7ad2_11e9_a88e_bf7dd87f5206row0_col12\" class=\"data row0 col12\" >N/A</td>\n",
       "            </tr>\n",
       "            <tr>\n",
       "                        <th id=\"T_0d23c57c_7ad2_11e9_a88e_bf7dd87f5206level0_row1\" class=\"row_heading level0 row1\" >1</th>\n",
       "                        <td id=\"T_0d23c57c_7ad2_11e9_a88e_bf7dd87f5206row1_col0\" class=\"data row1 col0\" >ds-count-filter-grad:5-6-58368:sm[vcg-non-increasing-6d-256p]</td>\n",
       "                        <td id=\"T_0d23c57c_7ad2_11e9_a88e_bf7dd87f5206row1_col1\" class=\"data row1 col1\" >False</td>\n",
       "                        <td id=\"T_0d23c57c_7ad2_11e9_a88e_bf7dd87f5206row1_col2\" class=\"data row1 col2\" >10</td>\n",
       "                        <td id=\"T_0d23c57c_7ad2_11e9_a88e_bf7dd87f5206row1_col3\" class=\"data row1 col3\" >10</td>\n",
       "                        <td id=\"T_0d23c57c_7ad2_11e9_a88e_bf7dd87f5206row1_col4\" class=\"data row1 col4\" >0</td>\n",
       "                        <td id=\"T_0d23c57c_7ad2_11e9_a88e_bf7dd87f5206row1_col5\" class=\"data row1 col5\" >0</td>\n",
       "                        <td id=\"T_0d23c57c_7ad2_11e9_a88e_bf7dd87f5206row1_col6\" class=\"data row1 col6\" >0</td>\n",
       "                        <td id=\"T_0d23c57c_7ad2_11e9_a88e_bf7dd87f5206row1_col7\" class=\"data row1 col7\" >0</td>\n",
       "                        <td id=\"T_0d23c57c_7ad2_11e9_a88e_bf7dd87f5206row1_col8\" class=\"data row1 col8\" >10:36:45</td>\n",
       "                        <td id=\"T_0d23c57c_7ad2_11e9_a88e_bf7dd87f5206row1_col9\" class=\"data row1 col9\" >0.11 seconds</td>\n",
       "                        <td id=\"T_0d23c57c_7ad2_11e9_a88e_bf7dd87f5206row1_col10\" class=\"data row1 col10\" >10:36:46</td>\n",
       "                        <td id=\"T_0d23c57c_7ad2_11e9_a88e_bf7dd87f5206row1_col11\" class=\"data row1 col11\" >88.68 items/second</td>\n",
       "                        <td id=\"T_0d23c57c_7ad2_11e9_a88e_bf7dd87f5206row1_col12\" class=\"data row1 col12\" >N/A</td>\n",
       "            </tr>\n",
       "            <tr>\n",
       "                        <th id=\"T_0d23c57c_7ad2_11e9_a88e_bf7dd87f5206level0_row2\" class=\"row_heading level0 row2\" >2</th>\n",
       "                        <td id=\"T_0d23c57c_7ad2_11e9_a88e_bf7dd87f5206row2_col0\" class=\"data row2 col0\" >ds-count-filter-grad:5-6-51200:sm[vcg-non-increasing-6d-256p]</td>\n",
       "                        <td id=\"T_0d23c57c_7ad2_11e9_a88e_bf7dd87f5206row2_col1\" class=\"data row2 col1\" >False</td>\n",
       "                        <td id=\"T_0d23c57c_7ad2_11e9_a88e_bf7dd87f5206row2_col2\" class=\"data row2 col2\" >10</td>\n",
       "                        <td id=\"T_0d23c57c_7ad2_11e9_a88e_bf7dd87f5206row2_col3\" class=\"data row2 col3\" >10</td>\n",
       "                        <td id=\"T_0d23c57c_7ad2_11e9_a88e_bf7dd87f5206row2_col4\" class=\"data row2 col4\" >0</td>\n",
       "                        <td id=\"T_0d23c57c_7ad2_11e9_a88e_bf7dd87f5206row2_col5\" class=\"data row2 col5\" >0</td>\n",
       "                        <td id=\"T_0d23c57c_7ad2_11e9_a88e_bf7dd87f5206row2_col6\" class=\"data row2 col6\" >0</td>\n",
       "                        <td id=\"T_0d23c57c_7ad2_11e9_a88e_bf7dd87f5206row2_col7\" class=\"data row2 col7\" >0</td>\n",
       "                        <td id=\"T_0d23c57c_7ad2_11e9_a88e_bf7dd87f5206row2_col8\" class=\"data row2 col8\" >10:36:45</td>\n",
       "                        <td id=\"T_0d23c57c_7ad2_11e9_a88e_bf7dd87f5206row2_col9\" class=\"data row2 col9\" >0.13 seconds</td>\n",
       "                        <td id=\"T_0d23c57c_7ad2_11e9_a88e_bf7dd87f5206row2_col10\" class=\"data row2 col10\" >10:36:45</td>\n",
       "                        <td id=\"T_0d23c57c_7ad2_11e9_a88e_bf7dd87f5206row2_col11\" class=\"data row2 col11\" >75.22 items/second</td>\n",
       "                        <td id=\"T_0d23c57c_7ad2_11e9_a88e_bf7dd87f5206row2_col12\" class=\"data row2 col12\" >N/A</td>\n",
       "            </tr>\n",
       "            <tr>\n",
       "                        <th id=\"T_0d23c57c_7ad2_11e9_a88e_bf7dd87f5206level0_row3\" class=\"row_heading level0 row3\" >3</th>\n",
       "                        <td id=\"T_0d23c57c_7ad2_11e9_a88e_bf7dd87f5206row3_col0\" class=\"data row3 col0\" >ds-count-filter-grad:5-6-44032:sm[vcg-non-increasing-6d-256p]</td>\n",
       "                        <td id=\"T_0d23c57c_7ad2_11e9_a88e_bf7dd87f5206row3_col1\" class=\"data row3 col1\" >False</td>\n",
       "                        <td id=\"T_0d23c57c_7ad2_11e9_a88e_bf7dd87f5206row3_col2\" class=\"data row3 col2\" >10</td>\n",
       "                        <td id=\"T_0d23c57c_7ad2_11e9_a88e_bf7dd87f5206row3_col3\" class=\"data row3 col3\" >10</td>\n",
       "                        <td id=\"T_0d23c57c_7ad2_11e9_a88e_bf7dd87f5206row3_col4\" class=\"data row3 col4\" >0</td>\n",
       "                        <td id=\"T_0d23c57c_7ad2_11e9_a88e_bf7dd87f5206row3_col5\" class=\"data row3 col5\" >0</td>\n",
       "                        <td id=\"T_0d23c57c_7ad2_11e9_a88e_bf7dd87f5206row3_col6\" class=\"data row3 col6\" >0</td>\n",
       "                        <td id=\"T_0d23c57c_7ad2_11e9_a88e_bf7dd87f5206row3_col7\" class=\"data row3 col7\" >0</td>\n",
       "                        <td id=\"T_0d23c57c_7ad2_11e9_a88e_bf7dd87f5206row3_col8\" class=\"data row3 col8\" >10:36:45</td>\n",
       "                        <td id=\"T_0d23c57c_7ad2_11e9_a88e_bf7dd87f5206row3_col9\" class=\"data row3 col9\" >0.13 seconds</td>\n",
       "                        <td id=\"T_0d23c57c_7ad2_11e9_a88e_bf7dd87f5206row3_col10\" class=\"data row3 col10\" >10:36:45</td>\n",
       "                        <td id=\"T_0d23c57c_7ad2_11e9_a88e_bf7dd87f5206row3_col11\" class=\"data row3 col11\" >79.89 items/second</td>\n",
       "                        <td id=\"T_0d23c57c_7ad2_11e9_a88e_bf7dd87f5206row3_col12\" class=\"data row3 col12\" >N/A</td>\n",
       "            </tr>\n",
       "            <tr>\n",
       "                        <th id=\"T_0d23c57c_7ad2_11e9_a88e_bf7dd87f5206level0_row4\" class=\"row_heading level0 row4\" >4</th>\n",
       "                        <td id=\"T_0d23c57c_7ad2_11e9_a88e_bf7dd87f5206row4_col0\" class=\"data row4 col0\" >ds-count-filter-grad:5-6-36864:sm[vcg-non-increasing-6d-256p]</td>\n",
       "                        <td id=\"T_0d23c57c_7ad2_11e9_a88e_bf7dd87f5206row4_col1\" class=\"data row4 col1\" >False</td>\n",
       "                        <td id=\"T_0d23c57c_7ad2_11e9_a88e_bf7dd87f5206row4_col2\" class=\"data row4 col2\" >10</td>\n",
       "                        <td id=\"T_0d23c57c_7ad2_11e9_a88e_bf7dd87f5206row4_col3\" class=\"data row4 col3\" >10</td>\n",
       "                        <td id=\"T_0d23c57c_7ad2_11e9_a88e_bf7dd87f5206row4_col4\" class=\"data row4 col4\" >0</td>\n",
       "                        <td id=\"T_0d23c57c_7ad2_11e9_a88e_bf7dd87f5206row4_col5\" class=\"data row4 col5\" >0</td>\n",
       "                        <td id=\"T_0d23c57c_7ad2_11e9_a88e_bf7dd87f5206row4_col6\" class=\"data row4 col6\" >0</td>\n",
       "                        <td id=\"T_0d23c57c_7ad2_11e9_a88e_bf7dd87f5206row4_col7\" class=\"data row4 col7\" >0</td>\n",
       "                        <td id=\"T_0d23c57c_7ad2_11e9_a88e_bf7dd87f5206row4_col8\" class=\"data row4 col8\" >10:36:45</td>\n",
       "                        <td id=\"T_0d23c57c_7ad2_11e9_a88e_bf7dd87f5206row4_col9\" class=\"data row4 col9\" >0.10 seconds</td>\n",
       "                        <td id=\"T_0d23c57c_7ad2_11e9_a88e_bf7dd87f5206row4_col10\" class=\"data row4 col10\" >10:36:45</td>\n",
       "                        <td id=\"T_0d23c57c_7ad2_11e9_a88e_bf7dd87f5206row4_col11\" class=\"data row4 col11\" >98.37 items/second</td>\n",
       "                        <td id=\"T_0d23c57c_7ad2_11e9_a88e_bf7dd87f5206row4_col12\" class=\"data row4 col12\" >N/A</td>\n",
       "            </tr>\n",
       "            <tr>\n",
       "                        <th id=\"T_0d23c57c_7ad2_11e9_a88e_bf7dd87f5206level0_row5\" class=\"row_heading level0 row5\" >5</th>\n",
       "                        <td id=\"T_0d23c57c_7ad2_11e9_a88e_bf7dd87f5206row5_col0\" class=\"data row5 col0\" >ds-count-filter-grad:5-6-29696:sm[vcg-non-increasing-6d-256p]</td>\n",
       "                        <td id=\"T_0d23c57c_7ad2_11e9_a88e_bf7dd87f5206row5_col1\" class=\"data row5 col1\" >False</td>\n",
       "                        <td id=\"T_0d23c57c_7ad2_11e9_a88e_bf7dd87f5206row5_col2\" class=\"data row5 col2\" >10</td>\n",
       "                        <td id=\"T_0d23c57c_7ad2_11e9_a88e_bf7dd87f5206row5_col3\" class=\"data row5 col3\" >10</td>\n",
       "                        <td id=\"T_0d23c57c_7ad2_11e9_a88e_bf7dd87f5206row5_col4\" class=\"data row5 col4\" >0</td>\n",
       "                        <td id=\"T_0d23c57c_7ad2_11e9_a88e_bf7dd87f5206row5_col5\" class=\"data row5 col5\" >0</td>\n",
       "                        <td id=\"T_0d23c57c_7ad2_11e9_a88e_bf7dd87f5206row5_col6\" class=\"data row5 col6\" >0</td>\n",
       "                        <td id=\"T_0d23c57c_7ad2_11e9_a88e_bf7dd87f5206row5_col7\" class=\"data row5 col7\" >0</td>\n",
       "                        <td id=\"T_0d23c57c_7ad2_11e9_a88e_bf7dd87f5206row5_col8\" class=\"data row5 col8\" >10:36:45</td>\n",
       "                        <td id=\"T_0d23c57c_7ad2_11e9_a88e_bf7dd87f5206row5_col9\" class=\"data row5 col9\" >0.12 seconds</td>\n",
       "                        <td id=\"T_0d23c57c_7ad2_11e9_a88e_bf7dd87f5206row5_col10\" class=\"data row5 col10\" >10:36:45</td>\n",
       "                        <td id=\"T_0d23c57c_7ad2_11e9_a88e_bf7dd87f5206row5_col11\" class=\"data row5 col11\" >81.66 items/second</td>\n",
       "                        <td id=\"T_0d23c57c_7ad2_11e9_a88e_bf7dd87f5206row5_col12\" class=\"data row5 col12\" >N/A</td>\n",
       "            </tr>\n",
       "            <tr>\n",
       "                        <th id=\"T_0d23c57c_7ad2_11e9_a88e_bf7dd87f5206level0_row6\" class=\"row_heading level0 row6\" >6</th>\n",
       "                        <td id=\"T_0d23c57c_7ad2_11e9_a88e_bf7dd87f5206row6_col0\" class=\"data row6 col0\" >ds-count-filter-grad:5-6-22528:sm[vcg-non-increasing-6d-256p]</td>\n",
       "                        <td id=\"T_0d23c57c_7ad2_11e9_a88e_bf7dd87f5206row6_col1\" class=\"data row6 col1\" >False</td>\n",
       "                        <td id=\"T_0d23c57c_7ad2_11e9_a88e_bf7dd87f5206row6_col2\" class=\"data row6 col2\" >10</td>\n",
       "                        <td id=\"T_0d23c57c_7ad2_11e9_a88e_bf7dd87f5206row6_col3\" class=\"data row6 col3\" >10</td>\n",
       "                        <td id=\"T_0d23c57c_7ad2_11e9_a88e_bf7dd87f5206row6_col4\" class=\"data row6 col4\" >0</td>\n",
       "                        <td id=\"T_0d23c57c_7ad2_11e9_a88e_bf7dd87f5206row6_col5\" class=\"data row6 col5\" >0</td>\n",
       "                        <td id=\"T_0d23c57c_7ad2_11e9_a88e_bf7dd87f5206row6_col6\" class=\"data row6 col6\" >0</td>\n",
       "                        <td id=\"T_0d23c57c_7ad2_11e9_a88e_bf7dd87f5206row6_col7\" class=\"data row6 col7\" >0</td>\n",
       "                        <td id=\"T_0d23c57c_7ad2_11e9_a88e_bf7dd87f5206row6_col8\" class=\"data row6 col8\" >10:36:45</td>\n",
       "                        <td id=\"T_0d23c57c_7ad2_11e9_a88e_bf7dd87f5206row6_col9\" class=\"data row6 col9\" >0.11 seconds</td>\n",
       "                        <td id=\"T_0d23c57c_7ad2_11e9_a88e_bf7dd87f5206row6_col10\" class=\"data row6 col10\" >10:36:45</td>\n",
       "                        <td id=\"T_0d23c57c_7ad2_11e9_a88e_bf7dd87f5206row6_col11\" class=\"data row6 col11\" >89.88 items/second</td>\n",
       "                        <td id=\"T_0d23c57c_7ad2_11e9_a88e_bf7dd87f5206row6_col12\" class=\"data row6 col12\" >N/A</td>\n",
       "            </tr>\n",
       "            <tr>\n",
       "                        <th id=\"T_0d23c57c_7ad2_11e9_a88e_bf7dd87f5206level0_row7\" class=\"row_heading level0 row7\" >7</th>\n",
       "                        <td id=\"T_0d23c57c_7ad2_11e9_a88e_bf7dd87f5206row7_col0\" class=\"data row7 col0\" >ds-count-filter-grad:5-6-15360:sm[vcg-non-increasing-6d-256p]</td>\n",
       "                        <td id=\"T_0d23c57c_7ad2_11e9_a88e_bf7dd87f5206row7_col1\" class=\"data row7 col1\" >False</td>\n",
       "                        <td id=\"T_0d23c57c_7ad2_11e9_a88e_bf7dd87f5206row7_col2\" class=\"data row7 col2\" >10</td>\n",
       "                        <td id=\"T_0d23c57c_7ad2_11e9_a88e_bf7dd87f5206row7_col3\" class=\"data row7 col3\" >10</td>\n",
       "                        <td id=\"T_0d23c57c_7ad2_11e9_a88e_bf7dd87f5206row7_col4\" class=\"data row7 col4\" >0</td>\n",
       "                        <td id=\"T_0d23c57c_7ad2_11e9_a88e_bf7dd87f5206row7_col5\" class=\"data row7 col5\" >0</td>\n",
       "                        <td id=\"T_0d23c57c_7ad2_11e9_a88e_bf7dd87f5206row7_col6\" class=\"data row7 col6\" >0</td>\n",
       "                        <td id=\"T_0d23c57c_7ad2_11e9_a88e_bf7dd87f5206row7_col7\" class=\"data row7 col7\" >0</td>\n",
       "                        <td id=\"T_0d23c57c_7ad2_11e9_a88e_bf7dd87f5206row7_col8\" class=\"data row7 col8\" >10:36:45</td>\n",
       "                        <td id=\"T_0d23c57c_7ad2_11e9_a88e_bf7dd87f5206row7_col9\" class=\"data row7 col9\" >0.13 seconds</td>\n",
       "                        <td id=\"T_0d23c57c_7ad2_11e9_a88e_bf7dd87f5206row7_col10\" class=\"data row7 col10\" >10:36:45</td>\n",
       "                        <td id=\"T_0d23c57c_7ad2_11e9_a88e_bf7dd87f5206row7_col11\" class=\"data row7 col11\" >76.18 items/second</td>\n",
       "                        <td id=\"T_0d23c57c_7ad2_11e9_a88e_bf7dd87f5206row7_col12\" class=\"data row7 col12\" >N/A</td>\n",
       "            </tr>\n",
       "            <tr>\n",
       "                        <th id=\"T_0d23c57c_7ad2_11e9_a88e_bf7dd87f5206level0_row8\" class=\"row_heading level0 row8\" >8</th>\n",
       "                        <td id=\"T_0d23c57c_7ad2_11e9_a88e_bf7dd87f5206row8_col0\" class=\"data row8 col0\" >ds-count-filter-grad:5-6-8192:sm[vcg-non-increasing-6d-256p]</td>\n",
       "                        <td id=\"T_0d23c57c_7ad2_11e9_a88e_bf7dd87f5206row8_col1\" class=\"data row8 col1\" >False</td>\n",
       "                        <td id=\"T_0d23c57c_7ad2_11e9_a88e_bf7dd87f5206row8_col2\" class=\"data row8 col2\" >10</td>\n",
       "                        <td id=\"T_0d23c57c_7ad2_11e9_a88e_bf7dd87f5206row8_col3\" class=\"data row8 col3\" >10</td>\n",
       "                        <td id=\"T_0d23c57c_7ad2_11e9_a88e_bf7dd87f5206row8_col4\" class=\"data row8 col4\" >0</td>\n",
       "                        <td id=\"T_0d23c57c_7ad2_11e9_a88e_bf7dd87f5206row8_col5\" class=\"data row8 col5\" >0</td>\n",
       "                        <td id=\"T_0d23c57c_7ad2_11e9_a88e_bf7dd87f5206row8_col6\" class=\"data row8 col6\" >0</td>\n",
       "                        <td id=\"T_0d23c57c_7ad2_11e9_a88e_bf7dd87f5206row8_col7\" class=\"data row8 col7\" >0</td>\n",
       "                        <td id=\"T_0d23c57c_7ad2_11e9_a88e_bf7dd87f5206row8_col8\" class=\"data row8 col8\" >10:36:45</td>\n",
       "                        <td id=\"T_0d23c57c_7ad2_11e9_a88e_bf7dd87f5206row8_col9\" class=\"data row8 col9\" >0.13 seconds</td>\n",
       "                        <td id=\"T_0d23c57c_7ad2_11e9_a88e_bf7dd87f5206row8_col10\" class=\"data row8 col10\" >10:36:45</td>\n",
       "                        <td id=\"T_0d23c57c_7ad2_11e9_a88e_bf7dd87f5206row8_col11\" class=\"data row8 col11\" >78.30 items/second</td>\n",
       "                        <td id=\"T_0d23c57c_7ad2_11e9_a88e_bf7dd87f5206row8_col12\" class=\"data row8 col12\" >N/A</td>\n",
       "            </tr>\n",
       "            <tr>\n",
       "                        <th id=\"T_0d23c57c_7ad2_11e9_a88e_bf7dd87f5206level0_row9\" class=\"row_heading level0 row9\" >9</th>\n",
       "                        <td id=\"T_0d23c57c_7ad2_11e9_a88e_bf7dd87f5206row9_col0\" class=\"data row9 col0\" >ds-count-filter-grad:5-6-1024:sm[vcg-non-increasing-6d-256p]</td>\n",
       "                        <td id=\"T_0d23c57c_7ad2_11e9_a88e_bf7dd87f5206row9_col1\" class=\"data row9 col1\" >False</td>\n",
       "                        <td id=\"T_0d23c57c_7ad2_11e9_a88e_bf7dd87f5206row9_col2\" class=\"data row9 col2\" >10</td>\n",
       "                        <td id=\"T_0d23c57c_7ad2_11e9_a88e_bf7dd87f5206row9_col3\" class=\"data row9 col3\" >10</td>\n",
       "                        <td id=\"T_0d23c57c_7ad2_11e9_a88e_bf7dd87f5206row9_col4\" class=\"data row9 col4\" >0</td>\n",
       "                        <td id=\"T_0d23c57c_7ad2_11e9_a88e_bf7dd87f5206row9_col5\" class=\"data row9 col5\" >0</td>\n",
       "                        <td id=\"T_0d23c57c_7ad2_11e9_a88e_bf7dd87f5206row9_col6\" class=\"data row9 col6\" >0</td>\n",
       "                        <td id=\"T_0d23c57c_7ad2_11e9_a88e_bf7dd87f5206row9_col7\" class=\"data row9 col7\" >0</td>\n",
       "                        <td id=\"T_0d23c57c_7ad2_11e9_a88e_bf7dd87f5206row9_col8\" class=\"data row9 col8\" >10:36:44</td>\n",
       "                        <td id=\"T_0d23c57c_7ad2_11e9_a88e_bf7dd87f5206row9_col9\" class=\"data row9 col9\" >0.13 seconds</td>\n",
       "                        <td id=\"T_0d23c57c_7ad2_11e9_a88e_bf7dd87f5206row9_col10\" class=\"data row9 col10\" >10:36:45</td>\n",
       "                        <td id=\"T_0d23c57c_7ad2_11e9_a88e_bf7dd87f5206row9_col11\" class=\"data row9 col11\" >78.14 items/second</td>\n",
       "                        <td id=\"T_0d23c57c_7ad2_11e9_a88e_bf7dd87f5206row9_col12\" class=\"data row9 col12\" >N/A</td>\n",
       "            </tr>\n",
       "    </tbody></table>"
      ],
      "text/plain": [
       "<pandas.io.formats.style.Styler at 0x7f12d793a978>"
      ]
     },
     "execution_count": 6,
     "metadata": {},
     "output_type": "execute_result"
    }
   ],
   "source": [
    "job.print_job_status(show_finished_count=10, progress_columns=3, plot_progress=False)"
   ]
  },
  {
   "cell_type": "code",
   "execution_count": 28,
   "metadata": {
    "ExecuteTime": {
     "end_time": "2019-05-18T18:20:42.509227Z",
     "start_time": "2019-05-18T18:20:42.460764Z"
    }
   },
   "outputs": [],
   "source": [
    "job.destroy_job_executors()"
   ]
  },
  {
   "cell_type": "code",
   "execution_count": 11,
   "metadata": {
    "ExecuteTime": {
     "end_time": "2019-05-18T19:37:38.542163Z",
     "start_time": "2019-05-18T19:37:38.480871Z"
    }
   },
   "outputs": [],
   "source": [
    "job.print_job_errors()"
   ]
  },
  {
   "cell_type": "code",
   "execution_count": 26,
   "metadata": {
    "ExecuteTime": {
     "end_time": "2019-05-18T18:20:39.129507Z",
     "start_time": "2019-05-18T18:20:39.084246Z"
    }
   },
   "outputs": [],
   "source": [
    "job.terminate_batch_control_thread()"
   ]
  },
  {
   "cell_type": "code",
   "execution_count": 7,
   "metadata": {
    "ExecuteTime": {
     "end_time": "2019-05-20T07:37:05.214549Z",
     "start_time": "2019-05-20T07:37:05.137212Z"
    }
   },
   "outputs": [
    {
     "name": "stdout",
     "output_type": "stream",
     "text": [
      "Total batch jobs: 0\n"
     ]
    },
    {
     "data": {
      "text/html": [
       "<div>\n",
       "<style scoped>\n",
       "    .dataframe tbody tr th:only-of-type {\n",
       "        vertical-align: middle;\n",
       "    }\n",
       "\n",
       "    .dataframe tbody tr th {\n",
       "        vertical-align: top;\n",
       "    }\n",
       "\n",
       "    .dataframe thead th {\n",
       "        text-align: right;\n",
       "    }\n",
       "</style>\n",
       "<table border=\"1\" class=\"dataframe\">\n",
       "  <thead>\n",
       "    <tr style=\"text-align: right;\">\n",
       "      <th></th>\n",
       "      <th>name</th>\n",
       "      <th>dataset</th>\n",
       "    </tr>\n",
       "  </thead>\n",
       "  <tbody>\n",
       "  </tbody>\n",
       "</table>\n",
       "</div>"
      ],
      "text/plain": [
       "Empty DataFrame\n",
       "Columns: [name, dataset]\n",
       "Index: []"
      ]
     },
     "execution_count": 7,
     "metadata": {},
     "output_type": "execute_result"
    }
   ],
   "source": [
    "batch_list = exp.batch.get_batch_jobs_list()\n",
    "print(\"Total batch jobs:\", len(batch_list))\n",
    "batch_list"
   ]
  },
  {
   "cell_type": "code",
   "execution_count": 9,
   "metadata": {
    "ExecuteTime": {
     "end_time": "2019-05-13T13:23:38.877077Z",
     "start_time": "2019-05-13T13:23:38.821853Z"
    }
   },
   "outputs": [
    {
     "data": {
      "text/plain": [
       "{'thread': <Thread(batch-jobs, started daemon 139891856877312)>,\n",
       " 'name': 'batch-jobs',\n",
       " 'start_time': 1557753752.9025204,\n",
       " 'event': <threading.Event at 0x7f3b48656630>,\n",
       " 'queue': <queue.Queue at 0x7f3b1c8d2630>}"
      ]
     },
     "execution_count": 9,
     "metadata": {},
     "output_type": "execute_result"
    }
   ],
   "source": [
    "thread_info = job.get_batch_control_thread()\n",
    "thread_info"
   ]
  }
 ],
 "metadata": {
  "kernelspec": {
   "display_name": "Python 3",
   "language": "python",
   "name": "python3"
  },
  "language_info": {
   "codemirror_mode": {
    "name": "ipython",
    "version": 3
   },
   "file_extension": ".py",
   "mimetype": "text/x-python",
   "name": "python",
   "nbconvert_exporter": "python",
   "pygments_lexer": "ipython3",
   "version": "3.7.2"
  }
 },
 "nbformat": 4,
 "nbformat_minor": 2
}
