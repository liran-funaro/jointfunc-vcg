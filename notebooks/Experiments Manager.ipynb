{
 "cells": [
  {
   "cell_type": "code",
   "execution_count": 1,
   "metadata": {
    "ExecuteTime": {
     "end_time": "2019-02-28T14:46:00.807227Z",
     "start_time": "2019-02-28T14:46:00.390509Z"
    }
   },
   "outputs": [],
   "source": [
    "%matplotlib inline\n",
    "from common import *"
   ]
  },
  {
   "cell_type": "markdown",
   "metadata": {
    "heading_collapsed": true
   },
   "source": [
    "# All Paper Experiments"
   ]
  },
  {
   "cell_type": "code",
   "execution_count": 2,
   "metadata": {
    "ExecuteTime": {
     "end_time": "2018-10-14T01:00:38.099395Z",
     "start_time": "2018-10-14T01:00:38.052187Z"
    },
    "collapsed": true,
    "hidden": true
   },
   "outputs": [],
   "source": [
    "tested_dims = 1, 2, 3, 4, 5, 6\n",
    "sim_kwargs = dict(datasets_interval=(1,10), max_workers=1)"
   ]
  },
  {
   "cell_type": "markdown",
   "metadata": {
    "heading_collapsed": true,
    "hidden": true
   },
   "source": [
    "## Naive"
   ]
  },
  {
   "cell_type": "code",
   "execution_count": null,
   "metadata": {
    "collapsed": true,
    "hidden": true
   },
   "outputs": [],
   "source": [
    "naive_joint_val_sizes = np.linspace(2**10, 2**16, 10).astype(np.uint32)\n",
    "naive_compare_methods =  0,\n",
    "naive_join_flags = 'filter',\n",
    "\n",
    "# Data structures compare\n",
    "for ds_obj in data.concave, data.nonconcave, data.nonrising:\n",
    "    exp.batch.joint_val(ds_obj, exp_type='naive',\n",
    "                        sizes=naive_joint_val_sizes,\n",
    "                        join_methods=naive_compare_methods,\n",
    "                        join_flags=naive_join_flags,\n",
    "                        dims=tested_dims,\n",
    "                        sim_kwargs=sim_kwargs)"
   ]
  },
  {
   "cell_type": "markdown",
   "metadata": {
    "heading_collapsed": true,
    "hidden": true
   },
   "source": [
    "## Validation Maile and Tuffin"
   ]
  },
  {
   "cell_type": "code",
   "execution_count": 3,
   "metadata": {
    "ExecuteTime": {
     "end_time": "2018-10-14T01:00:59.136538Z",
     "start_time": "2018-10-14T01:00:59.023371Z"
    },
    "collapsed": true,
    "hidden": true
   },
   "outputs": [],
   "source": [
    "maille_tuffin_sizes = np.linspace(2**10, 2**16, 10).astype(np.uint32)\n",
    "exp.batch.maille_tuffin(data.concave, exp_type='maille-tuffin',\n",
    "                        sizes=maille_tuffin_sizes,\n",
    "                        dims=tested_dims,\n",
    "                        sim_kwargs=sim_kwargs)"
   ]
  },
  {
   "cell_type": "markdown",
   "metadata": {
    "heading_collapsed": true,
    "hidden": true
   },
   "source": [
    "## Killer"
   ]
  },
  {
   "cell_type": "code",
   "execution_count": 5,
   "metadata": {
    "ExecuteTime": {
     "end_time": "2018-10-14T01:01:15.812759Z",
     "start_time": "2018-10-14T01:01:15.758070Z"
    },
    "collapsed": true,
    "hidden": true
   },
   "outputs": [],
   "source": [
    "joint_val_sizes = np.linspace(2**10, 2**16, 10).astype(np.uint32)\n",
    "compare_methods =  5,\n",
    "join_flags = 'filter_grad', 'filter',\n",
    "\n",
    "# Data structures compare\n",
    "for ds_obj in (data.concave, data.nonconcave, data.nonrising):\n",
    "    exp.batch.joint_val(ds_obj, exp_type='killer-2',\n",
    "                        sizes=joint_val_sizes,\n",
    "                        join_methods=compare_methods,\n",
    "                        join_flags=join_flags,\n",
    "                        dims=tested_dims,\n",
    "                        sim_kwargs=sim_kwargs)"
   ]
  },
  {
   "cell_type": "markdown",
   "metadata": {
    "heading_collapsed": true,
    "hidden": true
   },
   "source": [
    "## Count"
   ]
  },
  {
   "cell_type": "code",
   "execution_count": 6,
   "metadata": {
    "ExecuteTime": {
     "end_time": "2018-10-14T01:01:20.169740Z",
     "start_time": "2018-10-14T01:01:20.122447Z"
    },
    "collapsed": true,
    "hidden": true
   },
   "outputs": [],
   "source": [
    "count_joint_val_sizes = np.linspace(2**10, 2**16, 10).astype(np.uint32)\n",
    "count_compare_methods = 5,\n",
    "count_join_flags = 'filter_grad','filter', 'count'\n",
    "\n",
    "# Count analysis\n",
    "for ds_obj in (data.concave, data.nonconcave, data.nonrising):\n",
    "    exp.batch.joint_val(ds_obj, exp_type='ds-count-filter-grad-2',\n",
    "                        sizes=count_joint_val_sizes,\n",
    "                        join_methods=count_compare_methods,\n",
    "                        join_flags=count_join_flags,\n",
    "                        dims=tested_dims,\n",
    "                        sim_kwargs=sim_kwargs)"
   ]
  },
  {
   "cell_type": "markdown",
   "metadata": {
    "heading_collapsed": true,
    "hidden": true
   },
   "source": [
    "## Analysis"
   ]
  },
  {
   "cell_type": "code",
   "execution_count": 7,
   "metadata": {
    "ExecuteTime": {
     "end_time": "2018-10-14T01:01:22.584174Z",
     "start_time": "2018-10-14T01:01:22.547843Z"
    },
    "collapsed": true,
    "hidden": true
   },
   "outputs": [],
   "source": [
    "analysis_joint_val_sizes = np.linspace(2**10, 2**16, 3).astype(np.uint32)\n",
    "analysis_compare_methods = 5, 9, 2\n",
    "analysis_join_flags = 'filter_grad','filter', 'count', 'buildtime', 'querytime'\n",
    "\n",
    "# Data structures analysis\n",
    "exp.batch.joint_val(data.nonconcave, exp_type='ds-analysis-filter-grad-2',\n",
    "                    sizes=analysis_joint_val_sizes,\n",
    "                    join_methods=analysis_compare_methods,\n",
    "                    join_flags=analysis_join_flags,\n",
    "                    dims=tested_dims,\n",
    "                    sim_kwargs=sim_kwargs)"
   ]
  },
  {
   "cell_type": "markdown",
   "metadata": {
    "heading_collapsed": true,
    "hidden": true
   },
   "source": [
    "## Count without filtering grad"
   ]
  },
  {
   "cell_type": "code",
   "execution_count": null,
   "metadata": {
    "collapsed": true,
    "hidden": true
   },
   "outputs": [],
   "source": [
    "count_joint_val_sizes = np.linspace(2**10, 2**16, 10).astype(np.uint32)\n",
    "count_compare_methods = 5,\n",
    "count_join_flags = 'filter', 'count'\n",
    "\n",
    "# Count analysis\n",
    "for ds_obj in data.concave, data.nonconcave, data.nonrising:\n",
    "    exp.batch.joint_val(ds_obj, exp_type='ds-count-no-filter-grad',\n",
    "                        sizes=count_joint_val_sizes,\n",
    "                        join_methods=count_compare_methods,\n",
    "                        join_flags=count_join_flags,\n",
    "                        dims=tested_dims,\n",
    "                        sim_kwargs=sim_kwargs)"
   ]
  },
  {
   "cell_type": "markdown",
   "metadata": {
    "heading_collapsed": true
   },
   "source": [
    "# Test Build Time"
   ]
  },
  {
   "cell_type": "code",
   "execution_count": 8,
   "metadata": {
    "ExecuteTime": {
     "end_time": "2018-09-17T16:13:21.553165Z",
     "start_time": "2018-09-17T16:13:20.575093Z"
    },
    "collapsed": true,
    "hidden": true
   },
   "outputs": [],
   "source": [
    "sim.start_control_thread(\"exp\", exp.batch.many_size_and_dim_ds_build_time, kwargs=dict(\n",
    "    ds_obj=ds_obj,\n",
    "    sizes=sizes,\n",
    "    dims=dims,\n",
    "    join_methods=(8,),\n",
    "    max_workers=1,\n",
    "    datasets_interval=(0,1),\n",
    "))"
   ]
  },
  {
   "cell_type": "markdown",
   "metadata": {
    "heading_collapsed": true
   },
   "source": [
    "# Status"
   ]
  },
  {
   "cell_type": "code",
   "execution_count": 57,
   "metadata": {
    "ExecuteTime": {
     "end_time": "2018-10-15T21:16:24.398559Z",
     "start_time": "2018-10-15T21:16:24.166311Z"
    },
    "hidden": true,
    "scrolled": false
   },
   "outputs": [
    {
     "name": "stdout",
     "output_type": "stream",
     "text": [
      "Total ran simulations: 492\n"
     ]
    },
    {
     "data": {
      "text/html": [
       "<style  type=\"text/css\" >\n",
       "    #T_921ca3a6_d0bf_11e8_82d2_f01fafe153d2row0_col2 {\n",
       "            : ;\n",
       "            background-color:  #72bf72;\n",
       "        }    #T_921ca3a6_d0bf_11e8_82d2_f01fafe153d2row0_col3 {\n",
       "            : ;\n",
       "            background-color:  #72bf72;\n",
       "        }    #T_921ca3a6_d0bf_11e8_82d2_f01fafe153d2row0_col4 {\n",
       "            : ;\n",
       "            background-color:  #e5ffe5;\n",
       "        }    #T_921ca3a6_d0bf_11e8_82d2_f01fafe153d2row0_col5 {\n",
       "            : ;\n",
       "            background-color:  #e5ffe5;\n",
       "        }    #T_921ca3a6_d0bf_11e8_82d2_f01fafe153d2row0_col6 {\n",
       "            : ;\n",
       "            background-color:  #e5ffe5;\n",
       "        }    #T_921ca3a6_d0bf_11e8_82d2_f01fafe153d2row0_col7 {\n",
       "            : ;\n",
       "            background-color:  #e5ffe5;\n",
       "        }    #T_921ca3a6_d0bf_11e8_82d2_f01fafe153d2row1_col2 {\n",
       "            : ;\n",
       "            background-color:  #72bf72;\n",
       "        }    #T_921ca3a6_d0bf_11e8_82d2_f01fafe153d2row1_col3 {\n",
       "            : ;\n",
       "            background-color:  #72bf72;\n",
       "        }    #T_921ca3a6_d0bf_11e8_82d2_f01fafe153d2row1_col4 {\n",
       "            : ;\n",
       "            background-color:  #e5ffe5;\n",
       "        }    #T_921ca3a6_d0bf_11e8_82d2_f01fafe153d2row1_col5 {\n",
       "            : ;\n",
       "            background-color:  #e5ffe5;\n",
       "        }    #T_921ca3a6_d0bf_11e8_82d2_f01fafe153d2row1_col6 {\n",
       "            : ;\n",
       "            background-color:  #e5ffe5;\n",
       "        }    #T_921ca3a6_d0bf_11e8_82d2_f01fafe153d2row1_col7 {\n",
       "            : ;\n",
       "            background-color:  #e5ffe5;\n",
       "        }    #T_921ca3a6_d0bf_11e8_82d2_f01fafe153d2row2_col2 {\n",
       "            : ;\n",
       "            background-color:  #72bf72;\n",
       "        }    #T_921ca3a6_d0bf_11e8_82d2_f01fafe153d2row2_col3 {\n",
       "            : ;\n",
       "            background-color:  #72bf72;\n",
       "        }    #T_921ca3a6_d0bf_11e8_82d2_f01fafe153d2row2_col4 {\n",
       "            : ;\n",
       "            background-color:  #e5ffe5;\n",
       "        }    #T_921ca3a6_d0bf_11e8_82d2_f01fafe153d2row2_col5 {\n",
       "            : ;\n",
       "            background-color:  #e5ffe5;\n",
       "        }    #T_921ca3a6_d0bf_11e8_82d2_f01fafe153d2row2_col6 {\n",
       "            : ;\n",
       "            background-color:  #e5ffe5;\n",
       "        }    #T_921ca3a6_d0bf_11e8_82d2_f01fafe153d2row2_col7 {\n",
       "            : ;\n",
       "            background-color:  #e5ffe5;\n",
       "        }    #T_921ca3a6_d0bf_11e8_82d2_f01fafe153d2row3_col2 {\n",
       "            : ;\n",
       "            background-color:  #72bf72;\n",
       "        }    #T_921ca3a6_d0bf_11e8_82d2_f01fafe153d2row3_col3 {\n",
       "            : ;\n",
       "            background-color:  #72bf72;\n",
       "        }    #T_921ca3a6_d0bf_11e8_82d2_f01fafe153d2row3_col4 {\n",
       "            : ;\n",
       "            background-color:  #e5ffe5;\n",
       "        }    #T_921ca3a6_d0bf_11e8_82d2_f01fafe153d2row3_col5 {\n",
       "            : ;\n",
       "            background-color:  #e5ffe5;\n",
       "        }    #T_921ca3a6_d0bf_11e8_82d2_f01fafe153d2row3_col6 {\n",
       "            : ;\n",
       "            background-color:  #e5ffe5;\n",
       "        }    #T_921ca3a6_d0bf_11e8_82d2_f01fafe153d2row3_col7 {\n",
       "            : ;\n",
       "            background-color:  #e5ffe5;\n",
       "        }    #T_921ca3a6_d0bf_11e8_82d2_f01fafe153d2row4_col2 {\n",
       "            : ;\n",
       "            background-color:  #72bf72;\n",
       "        }    #T_921ca3a6_d0bf_11e8_82d2_f01fafe153d2row4_col3 {\n",
       "            : ;\n",
       "            background-color:  #72bf72;\n",
       "        }    #T_921ca3a6_d0bf_11e8_82d2_f01fafe153d2row4_col4 {\n",
       "            : ;\n",
       "            background-color:  #e5ffe5;\n",
       "        }    #T_921ca3a6_d0bf_11e8_82d2_f01fafe153d2row4_col5 {\n",
       "            : ;\n",
       "            background-color:  #e5ffe5;\n",
       "        }    #T_921ca3a6_d0bf_11e8_82d2_f01fafe153d2row4_col6 {\n",
       "            : ;\n",
       "            background-color:  #e5ffe5;\n",
       "        }    #T_921ca3a6_d0bf_11e8_82d2_f01fafe153d2row4_col7 {\n",
       "            : ;\n",
       "            background-color:  #e5ffe5;\n",
       "        }    #T_921ca3a6_d0bf_11e8_82d2_f01fafe153d2row5_col2 {\n",
       "            : ;\n",
       "            background-color:  #72bf72;\n",
       "        }    #T_921ca3a6_d0bf_11e8_82d2_f01fafe153d2row5_col3 {\n",
       "            : ;\n",
       "            background-color:  #72bf72;\n",
       "        }    #T_921ca3a6_d0bf_11e8_82d2_f01fafe153d2row5_col4 {\n",
       "            : ;\n",
       "            background-color:  #e5ffe5;\n",
       "        }    #T_921ca3a6_d0bf_11e8_82d2_f01fafe153d2row5_col5 {\n",
       "            : ;\n",
       "            background-color:  #e5ffe5;\n",
       "        }    #T_921ca3a6_d0bf_11e8_82d2_f01fafe153d2row5_col6 {\n",
       "            : ;\n",
       "            background-color:  #e5ffe5;\n",
       "        }    #T_921ca3a6_d0bf_11e8_82d2_f01fafe153d2row5_col7 {\n",
       "            : ;\n",
       "            background-color:  #e5ffe5;\n",
       "        }    #T_921ca3a6_d0bf_11e8_82d2_f01fafe153d2row6_col2 {\n",
       "            : ;\n",
       "            background-color:  #72bf72;\n",
       "        }    #T_921ca3a6_d0bf_11e8_82d2_f01fafe153d2row6_col3 {\n",
       "            : ;\n",
       "            background-color:  #72bf72;\n",
       "        }    #T_921ca3a6_d0bf_11e8_82d2_f01fafe153d2row6_col4 {\n",
       "            : ;\n",
       "            background-color:  #e5ffe5;\n",
       "        }    #T_921ca3a6_d0bf_11e8_82d2_f01fafe153d2row6_col5 {\n",
       "            : ;\n",
       "            background-color:  #e5ffe5;\n",
       "        }    #T_921ca3a6_d0bf_11e8_82d2_f01fafe153d2row6_col6 {\n",
       "            : ;\n",
       "            background-color:  #e5ffe5;\n",
       "        }    #T_921ca3a6_d0bf_11e8_82d2_f01fafe153d2row6_col7 {\n",
       "            : ;\n",
       "            background-color:  #e5ffe5;\n",
       "        }    #T_921ca3a6_d0bf_11e8_82d2_f01fafe153d2row7_col2 {\n",
       "            : ;\n",
       "            background-color:  #72bf72;\n",
       "        }    #T_921ca3a6_d0bf_11e8_82d2_f01fafe153d2row7_col3 {\n",
       "            : ;\n",
       "            background-color:  #72bf72;\n",
       "        }    #T_921ca3a6_d0bf_11e8_82d2_f01fafe153d2row7_col4 {\n",
       "            : ;\n",
       "            background-color:  #e5ffe5;\n",
       "        }    #T_921ca3a6_d0bf_11e8_82d2_f01fafe153d2row7_col5 {\n",
       "            : ;\n",
       "            background-color:  #e5ffe5;\n",
       "        }    #T_921ca3a6_d0bf_11e8_82d2_f01fafe153d2row7_col6 {\n",
       "            : ;\n",
       "            background-color:  #e5ffe5;\n",
       "        }    #T_921ca3a6_d0bf_11e8_82d2_f01fafe153d2row7_col7 {\n",
       "            : ;\n",
       "            background-color:  #e5ffe5;\n",
       "        }    #T_921ca3a6_d0bf_11e8_82d2_f01fafe153d2row8_col2 {\n",
       "            : ;\n",
       "            background-color:  #72bf72;\n",
       "        }    #T_921ca3a6_d0bf_11e8_82d2_f01fafe153d2row8_col3 {\n",
       "            : ;\n",
       "            background-color:  #72bf72;\n",
       "        }    #T_921ca3a6_d0bf_11e8_82d2_f01fafe153d2row8_col4 {\n",
       "            : ;\n",
       "            background-color:  #e5ffe5;\n",
       "        }    #T_921ca3a6_d0bf_11e8_82d2_f01fafe153d2row8_col5 {\n",
       "            : ;\n",
       "            background-color:  #e5ffe5;\n",
       "        }    #T_921ca3a6_d0bf_11e8_82d2_f01fafe153d2row8_col6 {\n",
       "            : ;\n",
       "            background-color:  #e5ffe5;\n",
       "        }    #T_921ca3a6_d0bf_11e8_82d2_f01fafe153d2row8_col7 {\n",
       "            : ;\n",
       "            background-color:  #e5ffe5;\n",
       "        }    #T_921ca3a6_d0bf_11e8_82d2_f01fafe153d2row9_col2 {\n",
       "            : ;\n",
       "            background-color:  #72bf72;\n",
       "        }    #T_921ca3a6_d0bf_11e8_82d2_f01fafe153d2row9_col3 {\n",
       "            : ;\n",
       "            background-color:  #72bf72;\n",
       "        }    #T_921ca3a6_d0bf_11e8_82d2_f01fafe153d2row9_col4 {\n",
       "            : ;\n",
       "            background-color:  #e5ffe5;\n",
       "        }    #T_921ca3a6_d0bf_11e8_82d2_f01fafe153d2row9_col5 {\n",
       "            : ;\n",
       "            background-color:  #e5ffe5;\n",
       "        }    #T_921ca3a6_d0bf_11e8_82d2_f01fafe153d2row9_col6 {\n",
       "            : ;\n",
       "            background-color:  #e5ffe5;\n",
       "        }    #T_921ca3a6_d0bf_11e8_82d2_f01fafe153d2row9_col7 {\n",
       "            : ;\n",
       "            background-color:  #e5ffe5;\n",
       "        }</style>  \n",
       "<table id=\"T_921ca3a6_d0bf_11e8_82d2_f01fafe153d2\" > \n",
       "<thead>    <tr> \n",
       "        <th class=\"blank level0\" ></th> \n",
       "        <th class=\"col_heading level0 col0\" >Name</th> \n",
       "        <th class=\"col_heading level0 col1\" >Alive</th> \n",
       "        <th class=\"col_heading level0 col2\" >T</th> \n",
       "        <th class=\"col_heading level0 col3\" >D</th> \n",
       "        <th class=\"col_heading level0 col4\" >F</th> \n",
       "        <th class=\"col_heading level0 col5\" >R</th> \n",
       "        <th class=\"col_heading level0 col6\" >Q</th> \n",
       "        <th class=\"col_heading level0 col7\" >C</th> \n",
       "        <th class=\"col_heading level0 col8\" >Started</th> \n",
       "        <th class=\"col_heading level0 col9\" >Work Time</th> \n",
       "        <th class=\"col_heading level0 col10\" >Last Update</th> \n",
       "        <th class=\"col_heading level0 col11\" >Throughput</th> \n",
       "        <th class=\"col_heading level0 col12\" >ETA</th> \n",
       "    </tr></thead> \n",
       "<tbody>    <tr> \n",
       "        <th id=\"T_921ca3a6_d0bf_11e8_82d2_f01fafe153d2level0_row0\" class=\"row_heading level0 row0\" >0</th> \n",
       "        <td id=\"T_921ca3a6_d0bf_11e8_82d2_f01fafe153d2row0_col0\" class=\"data row0 col0\" >ds-analysis-filter-grad-2/6-6-65536[optimization-nonconcave-6d-256p]</td> \n",
       "        <td id=\"T_921ca3a6_d0bf_11e8_82d2_f01fafe153d2row0_col1\" class=\"data row0 col1\" >False</td> \n",
       "        <td id=\"T_921ca3a6_d0bf_11e8_82d2_f01fafe153d2row0_col2\" class=\"data row0 col2\" >9</td> \n",
       "        <td id=\"T_921ca3a6_d0bf_11e8_82d2_f01fafe153d2row0_col3\" class=\"data row0 col3\" >9</td> \n",
       "        <td id=\"T_921ca3a6_d0bf_11e8_82d2_f01fafe153d2row0_col4\" class=\"data row0 col4\" >0</td> \n",
       "        <td id=\"T_921ca3a6_d0bf_11e8_82d2_f01fafe153d2row0_col5\" class=\"data row0 col5\" >0</td> \n",
       "        <td id=\"T_921ca3a6_d0bf_11e8_82d2_f01fafe153d2row0_col6\" class=\"data row0 col6\" >0</td> \n",
       "        <td id=\"T_921ca3a6_d0bf_11e8_82d2_f01fafe153d2row0_col7\" class=\"data row0 col7\" >0</td> \n",
       "        <td id=\"T_921ca3a6_d0bf_11e8_82d2_f01fafe153d2row0_col8\" class=\"data row0 col8\" >23:35:36</td> \n",
       "        <td id=\"T_921ca3a6_d0bf_11e8_82d2_f01fafe153d2row0_col9\" class=\"data row0 col9\" >14:44 minutes</td> \n",
       "        <td id=\"T_921ca3a6_d0bf_11e8_82d2_f01fafe153d2row0_col10\" class=\"data row0 col10\" >23:50:20</td> \n",
       "        <td id=\"T_921ca3a6_d0bf_11e8_82d2_f01fafe153d2row0_col11\" class=\"data row0 col11\" >36.65 items/hour</td> \n",
       "        <td id=\"T_921ca3a6_d0bf_11e8_82d2_f01fafe153d2row0_col12\" class=\"data row0 col12\" >N/A</td> \n",
       "    </tr>    <tr> \n",
       "        <th id=\"T_921ca3a6_d0bf_11e8_82d2_f01fafe153d2level0_row1\" class=\"row_heading level0 row1\" >1</th> \n",
       "        <td id=\"T_921ca3a6_d0bf_11e8_82d2_f01fafe153d2row1_col0\" class=\"data row1 col0\" >ds-analysis-filter-grad-2/6-6-33280[optimization-nonconcave-6d-256p]</td> \n",
       "        <td id=\"T_921ca3a6_d0bf_11e8_82d2_f01fafe153d2row1_col1\" class=\"data row1 col1\" >False</td> \n",
       "        <td id=\"T_921ca3a6_d0bf_11e8_82d2_f01fafe153d2row1_col2\" class=\"data row1 col2\" >9</td> \n",
       "        <td id=\"T_921ca3a6_d0bf_11e8_82d2_f01fafe153d2row1_col3\" class=\"data row1 col3\" >9</td> \n",
       "        <td id=\"T_921ca3a6_d0bf_11e8_82d2_f01fafe153d2row1_col4\" class=\"data row1 col4\" >0</td> \n",
       "        <td id=\"T_921ca3a6_d0bf_11e8_82d2_f01fafe153d2row1_col5\" class=\"data row1 col5\" >0</td> \n",
       "        <td id=\"T_921ca3a6_d0bf_11e8_82d2_f01fafe153d2row1_col6\" class=\"data row1 col6\" >0</td> \n",
       "        <td id=\"T_921ca3a6_d0bf_11e8_82d2_f01fafe153d2row1_col7\" class=\"data row1 col7\" >0</td> \n",
       "        <td id=\"T_921ca3a6_d0bf_11e8_82d2_f01fafe153d2row1_col8\" class=\"data row1 col8\" >23:29:55</td> \n",
       "        <td id=\"T_921ca3a6_d0bf_11e8_82d2_f01fafe153d2row1_col9\" class=\"data row1 col9\" >5:40 minutes</td> \n",
       "        <td id=\"T_921ca3a6_d0bf_11e8_82d2_f01fafe153d2row1_col10\" class=\"data row1 col10\" >23:35:35</td> \n",
       "        <td id=\"T_921ca3a6_d0bf_11e8_82d2_f01fafe153d2row1_col11\" class=\"data row1 col11\" >1.59 items/minute</td> \n",
       "        <td id=\"T_921ca3a6_d0bf_11e8_82d2_f01fafe153d2row1_col12\" class=\"data row1 col12\" >N/A</td> \n",
       "    </tr>    <tr> \n",
       "        <th id=\"T_921ca3a6_d0bf_11e8_82d2_f01fafe153d2level0_row2\" class=\"row_heading level0 row2\" >2</th> \n",
       "        <td id=\"T_921ca3a6_d0bf_11e8_82d2_f01fafe153d2row2_col0\" class=\"data row2 col0\" >ds-analysis-filter-grad-2/6-6-1024[optimization-nonconcave-6d-256p]</td> \n",
       "        <td id=\"T_921ca3a6_d0bf_11e8_82d2_f01fafe153d2row2_col1\" class=\"data row2 col1\" >False</td> \n",
       "        <td id=\"T_921ca3a6_d0bf_11e8_82d2_f01fafe153d2row2_col2\" class=\"data row2 col2\" >9</td> \n",
       "        <td id=\"T_921ca3a6_d0bf_11e8_82d2_f01fafe153d2row2_col3\" class=\"data row2 col3\" >9</td> \n",
       "        <td id=\"T_921ca3a6_d0bf_11e8_82d2_f01fafe153d2row2_col4\" class=\"data row2 col4\" >0</td> \n",
       "        <td id=\"T_921ca3a6_d0bf_11e8_82d2_f01fafe153d2row2_col5\" class=\"data row2 col5\" >0</td> \n",
       "        <td id=\"T_921ca3a6_d0bf_11e8_82d2_f01fafe153d2row2_col6\" class=\"data row2 col6\" >0</td> \n",
       "        <td id=\"T_921ca3a6_d0bf_11e8_82d2_f01fafe153d2row2_col7\" class=\"data row2 col7\" >0</td> \n",
       "        <td id=\"T_921ca3a6_d0bf_11e8_82d2_f01fafe153d2row2_col8\" class=\"data row2 col8\" >23:29:39</td> \n",
       "        <td id=\"T_921ca3a6_d0bf_11e8_82d2_f01fafe153d2row2_col9\" class=\"data row2 col9\" >16.12 seconds</td> \n",
       "        <td id=\"T_921ca3a6_d0bf_11e8_82d2_f01fafe153d2row2_col10\" class=\"data row2 col10\" >23:29:55</td> \n",
       "        <td id=\"T_921ca3a6_d0bf_11e8_82d2_f01fafe153d2row2_col11\" class=\"data row2 col11\" >33.51 items/minute</td> \n",
       "        <td id=\"T_921ca3a6_d0bf_11e8_82d2_f01fafe153d2row2_col12\" class=\"data row2 col12\" >N/A</td> \n",
       "    </tr>    <tr> \n",
       "        <th id=\"T_921ca3a6_d0bf_11e8_82d2_f01fafe153d2level0_row3\" class=\"row_heading level0 row3\" >3</th> \n",
       "        <td id=\"T_921ca3a6_d0bf_11e8_82d2_f01fafe153d2row3_col0\" class=\"data row3 col0\" >ds-analysis-filter-grad-2/6-5-65536[optimization-nonconcave-6d-256p]</td> \n",
       "        <td id=\"T_921ca3a6_d0bf_11e8_82d2_f01fafe153d2row3_col1\" class=\"data row3 col1\" >False</td> \n",
       "        <td id=\"T_921ca3a6_d0bf_11e8_82d2_f01fafe153d2row3_col2\" class=\"data row3 col2\" >9</td> \n",
       "        <td id=\"T_921ca3a6_d0bf_11e8_82d2_f01fafe153d2row3_col3\" class=\"data row3 col3\" >9</td> \n",
       "        <td id=\"T_921ca3a6_d0bf_11e8_82d2_f01fafe153d2row3_col4\" class=\"data row3 col4\" >0</td> \n",
       "        <td id=\"T_921ca3a6_d0bf_11e8_82d2_f01fafe153d2row3_col5\" class=\"data row3 col5\" >0</td> \n",
       "        <td id=\"T_921ca3a6_d0bf_11e8_82d2_f01fafe153d2row3_col6\" class=\"data row3 col6\" >0</td> \n",
       "        <td id=\"T_921ca3a6_d0bf_11e8_82d2_f01fafe153d2row3_col7\" class=\"data row3 col7\" >0</td> \n",
       "        <td id=\"T_921ca3a6_d0bf_11e8_82d2_f01fafe153d2row3_col8\" class=\"data row3 col8\" >22:50:33</td> \n",
       "        <td id=\"T_921ca3a6_d0bf_11e8_82d2_f01fafe153d2row3_col9\" class=\"data row3 col9\" >39:05 minutes</td> \n",
       "        <td id=\"T_921ca3a6_d0bf_11e8_82d2_f01fafe153d2row3_col10\" class=\"data row3 col10\" >23:29:39</td> \n",
       "        <td id=\"T_921ca3a6_d0bf_11e8_82d2_f01fafe153d2row3_col11\" class=\"data row3 col11\" >13.81 items/hour</td> \n",
       "        <td id=\"T_921ca3a6_d0bf_11e8_82d2_f01fafe153d2row3_col12\" class=\"data row3 col12\" >N/A</td> \n",
       "    </tr>    <tr> \n",
       "        <th id=\"T_921ca3a6_d0bf_11e8_82d2_f01fafe153d2level0_row4\" class=\"row_heading level0 row4\" >4</th> \n",
       "        <td id=\"T_921ca3a6_d0bf_11e8_82d2_f01fafe153d2row4_col0\" class=\"data row4 col0\" >ds-analysis-filter-grad-2/6-5-33280[optimization-nonconcave-6d-256p]</td> \n",
       "        <td id=\"T_921ca3a6_d0bf_11e8_82d2_f01fafe153d2row4_col1\" class=\"data row4 col1\" >False</td> \n",
       "        <td id=\"T_921ca3a6_d0bf_11e8_82d2_f01fafe153d2row4_col2\" class=\"data row4 col2\" >9</td> \n",
       "        <td id=\"T_921ca3a6_d0bf_11e8_82d2_f01fafe153d2row4_col3\" class=\"data row4 col3\" >9</td> \n",
       "        <td id=\"T_921ca3a6_d0bf_11e8_82d2_f01fafe153d2row4_col4\" class=\"data row4 col4\" >0</td> \n",
       "        <td id=\"T_921ca3a6_d0bf_11e8_82d2_f01fafe153d2row4_col5\" class=\"data row4 col5\" >0</td> \n",
       "        <td id=\"T_921ca3a6_d0bf_11e8_82d2_f01fafe153d2row4_col6\" class=\"data row4 col6\" >0</td> \n",
       "        <td id=\"T_921ca3a6_d0bf_11e8_82d2_f01fafe153d2row4_col7\" class=\"data row4 col7\" >0</td> \n",
       "        <td id=\"T_921ca3a6_d0bf_11e8_82d2_f01fafe153d2row4_col8\" class=\"data row4 col8\" >22:40:34</td> \n",
       "        <td id=\"T_921ca3a6_d0bf_11e8_82d2_f01fafe153d2row4_col9\" class=\"data row4 col9\" >9:59 minutes</td> \n",
       "        <td id=\"T_921ca3a6_d0bf_11e8_82d2_f01fafe153d2row4_col10\" class=\"data row4 col10\" >22:50:33</td> \n",
       "        <td id=\"T_921ca3a6_d0bf_11e8_82d2_f01fafe153d2row4_col11\" class=\"data row4 col11\" >54.04 items/hour</td> \n",
       "        <td id=\"T_921ca3a6_d0bf_11e8_82d2_f01fafe153d2row4_col12\" class=\"data row4 col12\" >N/A</td> \n",
       "    </tr>    <tr> \n",
       "        <th id=\"T_921ca3a6_d0bf_11e8_82d2_f01fafe153d2level0_row5\" class=\"row_heading level0 row5\" >5</th> \n",
       "        <td id=\"T_921ca3a6_d0bf_11e8_82d2_f01fafe153d2row5_col0\" class=\"data row5 col0\" >ds-analysis-filter-grad-2/6-5-1024[optimization-nonconcave-6d-256p]</td> \n",
       "        <td id=\"T_921ca3a6_d0bf_11e8_82d2_f01fafe153d2row5_col1\" class=\"data row5 col1\" >False</td> \n",
       "        <td id=\"T_921ca3a6_d0bf_11e8_82d2_f01fafe153d2row5_col2\" class=\"data row5 col2\" >9</td> \n",
       "        <td id=\"T_921ca3a6_d0bf_11e8_82d2_f01fafe153d2row5_col3\" class=\"data row5 col3\" >9</td> \n",
       "        <td id=\"T_921ca3a6_d0bf_11e8_82d2_f01fafe153d2row5_col4\" class=\"data row5 col4\" >0</td> \n",
       "        <td id=\"T_921ca3a6_d0bf_11e8_82d2_f01fafe153d2row5_col5\" class=\"data row5 col5\" >0</td> \n",
       "        <td id=\"T_921ca3a6_d0bf_11e8_82d2_f01fafe153d2row5_col6\" class=\"data row5 col6\" >0</td> \n",
       "        <td id=\"T_921ca3a6_d0bf_11e8_82d2_f01fafe153d2row5_col7\" class=\"data row5 col7\" >0</td> \n",
       "        <td id=\"T_921ca3a6_d0bf_11e8_82d2_f01fafe153d2row5_col8\" class=\"data row5 col8\" >22:40:17</td> \n",
       "        <td id=\"T_921ca3a6_d0bf_11e8_82d2_f01fafe153d2row5_col9\" class=\"data row5 col9\" >16.01 seconds</td> \n",
       "        <td id=\"T_921ca3a6_d0bf_11e8_82d2_f01fafe153d2row5_col10\" class=\"data row5 col10\" >22:40:34</td> \n",
       "        <td id=\"T_921ca3a6_d0bf_11e8_82d2_f01fafe153d2row5_col11\" class=\"data row5 col11\" >33.72 items/minute</td> \n",
       "        <td id=\"T_921ca3a6_d0bf_11e8_82d2_f01fafe153d2row5_col12\" class=\"data row5 col12\" >N/A</td> \n",
       "    </tr>    <tr> \n",
       "        <th id=\"T_921ca3a6_d0bf_11e8_82d2_f01fafe153d2level0_row6\" class=\"row_heading level0 row6\" >6</th> \n",
       "        <td id=\"T_921ca3a6_d0bf_11e8_82d2_f01fafe153d2row6_col0\" class=\"data row6 col0\" >ds-analysis-filter-grad-2/6-4-65536[optimization-nonconcave-6d-256p]</td> \n",
       "        <td id=\"T_921ca3a6_d0bf_11e8_82d2_f01fafe153d2row6_col1\" class=\"data row6 col1\" >False</td> \n",
       "        <td id=\"T_921ca3a6_d0bf_11e8_82d2_f01fafe153d2row6_col2\" class=\"data row6 col2\" >9</td> \n",
       "        <td id=\"T_921ca3a6_d0bf_11e8_82d2_f01fafe153d2row6_col3\" class=\"data row6 col3\" >9</td> \n",
       "        <td id=\"T_921ca3a6_d0bf_11e8_82d2_f01fafe153d2row6_col4\" class=\"data row6 col4\" >0</td> \n",
       "        <td id=\"T_921ca3a6_d0bf_11e8_82d2_f01fafe153d2row6_col5\" class=\"data row6 col5\" >0</td> \n",
       "        <td id=\"T_921ca3a6_d0bf_11e8_82d2_f01fafe153d2row6_col6\" class=\"data row6 col6\" >0</td> \n",
       "        <td id=\"T_921ca3a6_d0bf_11e8_82d2_f01fafe153d2row6_col7\" class=\"data row6 col7\" >0</td> \n",
       "        <td id=\"T_921ca3a6_d0bf_11e8_82d2_f01fafe153d2row6_col8\" class=\"data row6 col8\" >21:49:23</td> \n",
       "        <td id=\"T_921ca3a6_d0bf_11e8_82d2_f01fafe153d2row6_col9\" class=\"data row6 col9\" >50:54 minutes</td> \n",
       "        <td id=\"T_921ca3a6_d0bf_11e8_82d2_f01fafe153d2row6_col10\" class=\"data row6 col10\" >22:40:17</td> \n",
       "        <td id=\"T_921ca3a6_d0bf_11e8_82d2_f01fafe153d2row6_col11\" class=\"data row6 col11\" >10.61 items/hour</td> \n",
       "        <td id=\"T_921ca3a6_d0bf_11e8_82d2_f01fafe153d2row6_col12\" class=\"data row6 col12\" >N/A</td> \n",
       "    </tr>    <tr> \n",
       "        <th id=\"T_921ca3a6_d0bf_11e8_82d2_f01fafe153d2level0_row7\" class=\"row_heading level0 row7\" >7</th> \n",
       "        <td id=\"T_921ca3a6_d0bf_11e8_82d2_f01fafe153d2row7_col0\" class=\"data row7 col0\" >ds-analysis-filter-grad-2/6-4-33280[optimization-nonconcave-6d-256p]</td> \n",
       "        <td id=\"T_921ca3a6_d0bf_11e8_82d2_f01fafe153d2row7_col1\" class=\"data row7 col1\" >False</td> \n",
       "        <td id=\"T_921ca3a6_d0bf_11e8_82d2_f01fafe153d2row7_col2\" class=\"data row7 col2\" >9</td> \n",
       "        <td id=\"T_921ca3a6_d0bf_11e8_82d2_f01fafe153d2row7_col3\" class=\"data row7 col3\" >9</td> \n",
       "        <td id=\"T_921ca3a6_d0bf_11e8_82d2_f01fafe153d2row7_col4\" class=\"data row7 col4\" >0</td> \n",
       "        <td id=\"T_921ca3a6_d0bf_11e8_82d2_f01fafe153d2row7_col5\" class=\"data row7 col5\" >0</td> \n",
       "        <td id=\"T_921ca3a6_d0bf_11e8_82d2_f01fafe153d2row7_col6\" class=\"data row7 col6\" >0</td> \n",
       "        <td id=\"T_921ca3a6_d0bf_11e8_82d2_f01fafe153d2row7_col7\" class=\"data row7 col7\" >0</td> \n",
       "        <td id=\"T_921ca3a6_d0bf_11e8_82d2_f01fafe153d2row7_col8\" class=\"data row7 col8\" >21:34:24</td> \n",
       "        <td id=\"T_921ca3a6_d0bf_11e8_82d2_f01fafe153d2row7_col9\" class=\"data row7 col9\" >14:59 minutes</td> \n",
       "        <td id=\"T_921ca3a6_d0bf_11e8_82d2_f01fafe153d2row7_col10\" class=\"data row7 col10\" >21:49:23</td> \n",
       "        <td id=\"T_921ca3a6_d0bf_11e8_82d2_f01fafe153d2row7_col11\" class=\"data row7 col11\" >36.03 items/hour</td> \n",
       "        <td id=\"T_921ca3a6_d0bf_11e8_82d2_f01fafe153d2row7_col12\" class=\"data row7 col12\" >N/A</td> \n",
       "    </tr>    <tr> \n",
       "        <th id=\"T_921ca3a6_d0bf_11e8_82d2_f01fafe153d2level0_row8\" class=\"row_heading level0 row8\" >8</th> \n",
       "        <td id=\"T_921ca3a6_d0bf_11e8_82d2_f01fafe153d2row8_col0\" class=\"data row8 col0\" >ds-analysis-filter-grad-2/6-4-1024[optimization-nonconcave-6d-256p]</td> \n",
       "        <td id=\"T_921ca3a6_d0bf_11e8_82d2_f01fafe153d2row8_col1\" class=\"data row8 col1\" >False</td> \n",
       "        <td id=\"T_921ca3a6_d0bf_11e8_82d2_f01fafe153d2row8_col2\" class=\"data row8 col2\" >9</td> \n",
       "        <td id=\"T_921ca3a6_d0bf_11e8_82d2_f01fafe153d2row8_col3\" class=\"data row8 col3\" >9</td> \n",
       "        <td id=\"T_921ca3a6_d0bf_11e8_82d2_f01fafe153d2row8_col4\" class=\"data row8 col4\" >0</td> \n",
       "        <td id=\"T_921ca3a6_d0bf_11e8_82d2_f01fafe153d2row8_col5\" class=\"data row8 col5\" >0</td> \n",
       "        <td id=\"T_921ca3a6_d0bf_11e8_82d2_f01fafe153d2row8_col6\" class=\"data row8 col6\" >0</td> \n",
       "        <td id=\"T_921ca3a6_d0bf_11e8_82d2_f01fafe153d2row8_col7\" class=\"data row8 col7\" >0</td> \n",
       "        <td id=\"T_921ca3a6_d0bf_11e8_82d2_f01fafe153d2row8_col8\" class=\"data row8 col8\" >21:34:07</td> \n",
       "        <td id=\"T_921ca3a6_d0bf_11e8_82d2_f01fafe153d2row8_col9\" class=\"data row8 col9\" >17.03 seconds</td> \n",
       "        <td id=\"T_921ca3a6_d0bf_11e8_82d2_f01fafe153d2row8_col10\" class=\"data row8 col10\" >21:34:24</td> \n",
       "        <td id=\"T_921ca3a6_d0bf_11e8_82d2_f01fafe153d2row8_col11\" class=\"data row8 col11\" >31.70 items/minute</td> \n",
       "        <td id=\"T_921ca3a6_d0bf_11e8_82d2_f01fafe153d2row8_col12\" class=\"data row8 col12\" >N/A</td> \n",
       "    </tr>    <tr> \n",
       "        <th id=\"T_921ca3a6_d0bf_11e8_82d2_f01fafe153d2level0_row9\" class=\"row_heading level0 row9\" >9</th> \n",
       "        <td id=\"T_921ca3a6_d0bf_11e8_82d2_f01fafe153d2row9_col0\" class=\"data row9 col0\" >ds-analysis-filter-grad-2/6-3-65536[optimization-nonconcave-6d-256p]</td> \n",
       "        <td id=\"T_921ca3a6_d0bf_11e8_82d2_f01fafe153d2row9_col1\" class=\"data row9 col1\" >False</td> \n",
       "        <td id=\"T_921ca3a6_d0bf_11e8_82d2_f01fafe153d2row9_col2\" class=\"data row9 col2\" >9</td> \n",
       "        <td id=\"T_921ca3a6_d0bf_11e8_82d2_f01fafe153d2row9_col3\" class=\"data row9 col3\" >9</td> \n",
       "        <td id=\"T_921ca3a6_d0bf_11e8_82d2_f01fafe153d2row9_col4\" class=\"data row9 col4\" >0</td> \n",
       "        <td id=\"T_921ca3a6_d0bf_11e8_82d2_f01fafe153d2row9_col5\" class=\"data row9 col5\" >0</td> \n",
       "        <td id=\"T_921ca3a6_d0bf_11e8_82d2_f01fafe153d2row9_col6\" class=\"data row9 col6\" >0</td> \n",
       "        <td id=\"T_921ca3a6_d0bf_11e8_82d2_f01fafe153d2row9_col7\" class=\"data row9 col7\" >0</td> \n",
       "        <td id=\"T_921ca3a6_d0bf_11e8_82d2_f01fafe153d2row9_col8\" class=\"data row9 col8\" >20:31:00</td> \n",
       "        <td id=\"T_921ca3a6_d0bf_11e8_82d2_f01fafe153d2row9_col9\" class=\"data row9 col9\" >1:03 hours</td> \n",
       "        <td id=\"T_921ca3a6_d0bf_11e8_82d2_f01fafe153d2row9_col10\" class=\"data row9 col10\" >21:34:06</td> \n",
       "        <td id=\"T_921ca3a6_d0bf_11e8_82d2_f01fafe153d2row9_col11\" class=\"data row9 col11\" >8.56 items/hour</td> \n",
       "        <td id=\"T_921ca3a6_d0bf_11e8_82d2_f01fafe153d2row9_col12\" class=\"data row9 col12\" >N/A</td> \n",
       "    </tr></tbody> \n",
       "</table> "
      ],
      "text/plain": [
       "<pandas.io.formats.style.Styler at 0x7f3a907bbb38>"
      ]
     },
     "metadata": {},
     "output_type": "display_data"
    },
    {
     "data": {
      "text/html": [
       "<style  type=\"text/css\" >\n",
       "    #T_921ca3a7_d0bf_11e8_82d2_f01fafe153d2row0_col0 {\n",
       "            background-color:  yellow;\n",
       "        }    #T_921ca3a7_d0bf_11e8_82d2_f01fafe153d2row0_col1 {\n",
       "            background-color:  yellow;\n",
       "        }    #T_921ca3a7_d0bf_11e8_82d2_f01fafe153d2row0_col2 {\n",
       "            background-color:  yellow;\n",
       "        }    #T_921ca3a7_d0bf_11e8_82d2_f01fafe153d2row0_col3 {\n",
       "            background-color:  yellow;\n",
       "        }    #T_921ca3a7_d0bf_11e8_82d2_f01fafe153d2row0_col4 {\n",
       "            background-color:  yellow;\n",
       "        }</style>  \n",
       "<table id=\"T_921ca3a7_d0bf_11e8_82d2_f01fafe153d2\" > \n",
       "<thead>    <tr> \n",
       "        <th class=\"blank level0\" ></th> \n",
       "        <th class=\"col_heading level0 col0\" >Name</th> \n",
       "        <th class=\"col_heading level0 col1\" >Alive</th> \n",
       "        <th class=\"col_heading level0 col2\" >Started</th> \n",
       "        <th class=\"col_heading level0 col3\" >Work Time</th> \n",
       "        <th class=\"col_heading level0 col4\" >Event State</th> \n",
       "    </tr></thead> \n",
       "<tbody>    <tr> \n",
       "        <th id=\"T_921ca3a7_d0bf_11e8_82d2_f01fafe153d2level0_row0\" class=\"row_heading level0 row0\" >0</th> \n",
       "        <td id=\"T_921ca3a7_d0bf_11e8_82d2_f01fafe153d2row0_col0\" class=\"data row0 col0\" >batch-sim-jobs</td> \n",
       "        <td id=\"T_921ca3a7_d0bf_11e8_82d2_f01fafe153d2row0_col1\" class=\"data row0 col1\" >True</td> \n",
       "        <td id=\"T_921ca3a7_d0bf_11e8_82d2_f01fafe153d2row0_col2\" class=\"data row0 col2\" >04:00:59</td> \n",
       "        <td id=\"T_921ca3a7_d0bf_11e8_82d2_f01fafe153d2row0_col3\" class=\"data row0 col3\" >1 days, 20:15 hours</td> \n",
       "        <td id=\"T_921ca3a7_d0bf_11e8_82d2_f01fafe153d2row0_col4\" class=\"data row0 col4\" >False</td> \n",
       "    </tr></tbody> \n",
       "</table> "
      ],
      "text/plain": [
       "<pandas.io.formats.style.Styler at 0x7f3a907bbef0>"
      ]
     },
     "metadata": {},
     "output_type": "display_data"
    }
   ],
   "source": [
    "display(*sim.print_simulations_status_joined(show_finished_count=10, progress_columns=3, plot_progress=False))"
   ]
  },
  {
   "cell_type": "code",
   "execution_count": 58,
   "metadata": {
    "ExecuteTime": {
     "end_time": "2018-10-15T21:16:36.793182Z",
     "start_time": "2018-10-15T21:16:36.744631Z"
    },
    "collapsed": true,
    "hidden": true
   },
   "outputs": [],
   "source": [
    "sim.destroy_executors()"
   ]
  },
  {
   "cell_type": "code",
   "execution_count": 15,
   "metadata": {
    "collapsed": true,
    "hidden": true
   },
   "outputs": [],
   "source": [
    "sim.terminate_control_thread('exp')"
   ]
  },
  {
   "cell_type": "code",
   "execution_count": 32,
   "metadata": {
    "ExecuteTime": {
     "end_time": "2018-10-13T15:10:14.484292Z",
     "start_time": "2018-10-13T15:10:14.447500Z"
    },
    "collapsed": true,
    "hidden": true
   },
   "outputs": [],
   "source": [
    "sim.terminate_batch_control_thread()"
   ]
  },
  {
   "cell_type": "code",
   "execution_count": 56,
   "metadata": {
    "ExecuteTime": {
     "end_time": "2018-10-15T21:16:21.859277Z",
     "start_time": "2018-10-15T21:16:20.976533Z"
    },
    "hidden": true
   },
   "outputs": [
    {
     "name": "stdout",
     "output_type": "stream",
     "text": [
      "Total batch jobs: 0\n"
     ]
    },
    {
     "data": {
      "text/html": [
       "<div>\n",
       "<style scoped>\n",
       "    .dataframe tbody tr th:only-of-type {\n",
       "        vertical-align: middle;\n",
       "    }\n",
       "\n",
       "    .dataframe tbody tr th {\n",
       "        vertical-align: top;\n",
       "    }\n",
       "\n",
       "    .dataframe thead th {\n",
       "        text-align: right;\n",
       "    }\n",
       "</style>\n",
       "<table border=\"1\" class=\"dataframe\">\n",
       "  <thead>\n",
       "    <tr style=\"text-align: right;\">\n",
       "      <th></th>\n",
       "      <th>name</th>\n",
       "      <th>dataset</th>\n",
       "    </tr>\n",
       "  </thead>\n",
       "  <tbody>\n",
       "  </tbody>\n",
       "</table>\n",
       "</div>"
      ],
      "text/plain": [
       "Empty DataFrame\n",
       "Columns: [name, dataset]\n",
       "Index: []"
      ]
     },
     "execution_count": 56,
     "metadata": {},
     "output_type": "execute_result"
    }
   ],
   "source": [
    "batch_list = exp.batch.get_batch_jobs_list()\n",
    "print(\"Total batch jobs:\", len(batch_list))\n",
    "batch_list"
   ]
  },
  {
   "cell_type": "code",
   "execution_count": 21,
   "metadata": {
    "ExecuteTime": {
     "end_time": "2018-10-13T14:43:49.336903Z",
     "start_time": "2018-10-13T14:43:48.517151Z"
    },
    "collapsed": true,
    "hidden": true
   },
   "outputs": [],
   "source": [
    "thread_info = sim.get_batch_control_thread()\n",
    "q = thread_info[3]"
   ]
  }
 ],
 "metadata": {
  "kernelspec": {
   "display_name": "Python 3",
   "language": "python",
   "name": "python3"
  },
  "language_info": {
   "codemirror_mode": {
    "name": "ipython",
    "version": 3
   },
   "file_extension": ".py",
   "mimetype": "text/x-python",
   "name": "python",
   "nbconvert_exporter": "python",
   "pygments_lexer": "ipython3",
   "version": "3.7.0"
  }
 },
 "nbformat": 4,
 "nbformat_minor": 2
}
